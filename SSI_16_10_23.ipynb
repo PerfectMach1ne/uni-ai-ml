{
  "cells": [
    {
      "cell_type": "markdown",
      "metadata": {
        "id": "view-in-github",
        "colab_type": "text"
      },
      "source": [
        "<a href=\"https://colab.research.google.com/github/PerfectMach1ne/uni-ai-ml/blob/main/SSI_16_10_23.ipynb\" target=\"_parent\"><img src=\"https://colab.research.google.com/assets/colab-badge.svg\" alt=\"Open In Colab\"/></a>"
      ]
    },
    {
      "cell_type": "markdown",
      "metadata": {
        "id": "1SPcTfKQD6Em"
      },
      "source": [
        "# Systemy sztucznej inteligencji P \\#1\n",
        "## 16.10.2023\n",
        "stacjonarne (jezuzsmariachrystyswtf)"
      ]
    },
    {
      "cell_type": "markdown",
      "metadata": {
        "id": "S-F92-UKEPGH"
      },
      "source": [
        "Luźne zajęcia do 20:40.\n",
        "Zadanka z W1 cz.1\n",
        "- (1) Sprawdź czy liczba jest parzysta."
      ]
    },
    {
      "cell_type": "code",
      "execution_count": null,
      "metadata": {
        "colab": {
          "base_uri": "https://localhost:8080/"
        },
        "id": "mN9-XS3kD1CL",
        "outputId": "4b96f833-f8c6-44ca-e3f9-2e2c2df59bec"
      },
      "outputs": [
        {
          "name": "stdout",
          "output_type": "stream",
          "text": [
            "Podaj liczbę: -33333\n",
            "Nieparzysta\n"
          ]
        }
      ],
      "source": [
        "num = int(input(\"Podaj liczbę: \"))\n",
        "\n",
        "if num % 2 == 0:\n",
        "  print(\"Parzysta\")\n",
        "else:\n",
        "  print(\"Nieparzysta\")\n"
      ]
    },
    {
      "cell_type": "markdown",
      "metadata": {
        "id": "o3GHcyNQG7U5"
      },
      "source": [
        "2 jest za łatwe xd\n",
        "- (3) Kantor wymienia euro na zł i zł na euro. Napisz program, który pozwoli na wymianę zarówno euro/zł i zł/euro. Użytkownik podaje, jakiego rodzaju wymiany chce dokonać, a następnie podaje kwotę, którą chce wymienić. Załóżmy następujące przeliczniki: 1 zł= 0.21 euro, 1 euro=4.74 zł"
      ]
    },
    {
      "cell_type": "code",
      "execution_count": null,
      "metadata": {
        "colab": {
          "base_uri": "https://localhost:8080/"
        },
        "id": "YscwZZxmGYEj",
        "outputId": "5d786de1-bb5d-4bab-d2d3-70cad2d58750"
      },
      "outputs": [
        {
          "name": "stdout",
          "output_type": "stream",
          "text": [
            "Podaj ilość pieniędzy: 8\n",
            "Wybierz walutę.\n",
            "Złoty: PLN; Euro: EUR\n",
            "EUR\n",
            "1.68 EUR\n"
          ]
        }
      ],
      "source": [
        "cash = float(input(\"Podaj ilość pieniędzy: \"))\n",
        "print(\"Wybierz walutę.\")\n",
        "wal = input(\"Złoty: PLN; Euro: EUR\\n\")\n",
        "if wal.upper() == \"EUR\":\n",
        "  print(str(cash * 0.21) + \" EUR\")\n",
        "elif wal.upper() == \"PLN\":\n",
        "  print(str(cash * 4.74) + \" PLN\")\n",
        "else:\n",
        "  print(\"Niepoprawna waluta\")"
      ]
    },
    {
      "cell_type": "markdown",
      "metadata": {
        "id": "CjC7xchaKVE9"
      },
      "source": [
        "#### Pętle\n",
        "- (1) Stwórz kalkulator, który będzie wykonywać jedną z następujących operacji: dodawanie, odejmowanie, mnożenie i dzielenie. Kalkulator ma działać do momentu, kiedy użytkownik nie wciśnie przycisku q, który będzie oznaczał wyjście z programu. Użytkownik podaje liczby i działanie, które ma być na nich wykonane. Pamiętaj, że nie można dzielić przez 0. Wynik ma zostać wyświetlony na konsoli."
      ]
    },
    {
      "cell_type": "code",
      "execution_count": null,
      "metadata": {
        "colab": {
          "base_uri": "https://localhost:8080/"
        },
        "id": "pIW9aJHtLgHy",
        "outputId": "da643927-2d21-41bf-ce53-4497a2ab7d14"
      },
      "outputs": [
        {
          "name": "stdout",
          "output_type": "stream",
          "text": [
            "Podaj działanie (e.g. 2 + 2)2+2\n",
            "Wrong input data!\n",
            "Podaj działanie (e.g. 2 + 2)2 + 2\n",
            "2 + 2 = 4\n",
            "Podaj działanie (e.g. 2 + 2)-3 - 8\n",
            "-3 - 8 = -11\n",
            "Podaj działanie (e.g. 2 + 2)0 - 6\n",
            "0 - 6 = -6\n",
            "Podaj działanie (e.g. 2 + 2)9 * 0\n",
            "9 * 0 = 0\n",
            "Podaj działanie (e.g. 2 + 2)9 / 7\n",
            "9 / 7 = 1.2857142857142858\n",
            "Podaj działanie (e.g. 2 + 2)9 / 0\n",
            "Cannot divide by 0!\n",
            "Podaj działanie (e.g. 2 + 2)2 +  -333\n",
            "2 + -333 = -331\n",
            "Podaj działanie (e.g. 2 + 2)q\n"
          ]
        }
      ],
      "source": [
        "loop = True\n",
        "while loop:\n",
        "  test = input(\"Podaj działanie (e.g. 2 + 2)\")\n",
        "  if test.lower() == 'q':\n",
        "    break\n",
        "  arithm = test.split()\n",
        "  if len(arithm) < 2:\n",
        "    print(\"Wrong input data!\")\n",
        "    continue\n",
        "  arithm[0], arithm[2] = int(arithm[0]), int(arithm[2])\n",
        "  if arithm[1] not in {'+', '-', '*', '/'}:\n",
        "    print(\"Wrong input data!\")\n",
        "    continue\n",
        "  else:\n",
        "    if arithm[1] == '+':\n",
        "      print(f\"{arithm[0]} + {arithm[2]} = {arithm[0] + arithm[2]}\")\n",
        "    elif arithm[1] == '-':\n",
        "      print(f\"{arithm[0]} - {arithm[2]} = {arithm[0] - arithm[2]}\")\n",
        "    elif arithm[1] == '*':\n",
        "      print(f\"{arithm[0]} * {arithm[2]} = {arithm[0] * arithm[2]}\")\n",
        "    elif arithm[1] == '/':\n",
        "      if arithm[2] == 0:\n",
        "        print(\"Cannot divide by 0!\")\n",
        "        # break\n",
        "        continue\n",
        "      print(f\"{arithm[0]} / {arithm[2]} = {arithm[0] / arithm[2]}\")\n"
      ]
    },
    {
      "cell_type": "markdown",
      "metadata": {
        "id": "3q2igHW0U3lH"
      },
      "source": [
        "- (1) Wygeneruj listę zawierającą 10 liczb z przedziału <1,100>. Na podstawie stworzonej listy stwórz dwie kolejne listy, z których jedna będzie zawierać tylko liczby parzyste a druga tylko nieparzyste. Wykorzystaj import from random import randint, funkcję randint.\n",
        "- (2) Lista przechowuje liczbę binarną zapisanę za pomocą 0/1. Wyświetl na konsoli liczbę w systemie dziesiętym.\n",
        "- (3) Znajdź wszystkie indeksy pod którymi znajdują się elementy mniejsze niż średnia arytmetyczna elementów w liście. Wypisz indeksy na konsolę.\n"
      ]
    },
    {
      "cell_type": "code",
      "execution_count": null,
      "metadata": {
        "id": "2OCaJYuIQX3J"
      },
      "outputs": [],
      "source": [
        "from random import randint"
      ]
    },
    {
      "cell_type": "code",
      "execution_count": null,
      "metadata": {
        "colab": {
          "base_uri": "https://localhost:8080/"
        },
        "id": "h8iDg3BVYZoa",
        "outputId": "bfbdc997-4e15-4336-9fac-134bf95b8493"
      },
      "outputs": [
        {
          "name": "stdout",
          "output_type": "stream",
          "text": [
            "List of random integers from [1,100] interval: \n",
            "[59, 51, 88, 21, 13, 54, 5, 46, 36, 7]\n",
            "List of even integers: \n",
            "[88, 54, 46, 36]\n",
            "List of odd integers: \n",
            "[59, 51, 21, 13, 5, 7]\n"
          ]
        }
      ],
      "source": [
        "listofnum = list()\n",
        "for i in range(1,10+1):\n",
        "  listofnum.append(randint(1,100))\n",
        "print(\"List of random integers from [1,100] interval: \")\n",
        "print(listofnum)\n",
        "evenints = list()\n",
        "oddints = list()\n",
        "for z in listofnum:\n",
        "  if z % 2 == 0:\n",
        "    evenints.append(z)\n",
        "  else:\n",
        "    oddints.append(z)\n",
        "print(\"List of even integers: \")\n",
        "print(evenints)\n",
        "print(\"List of odd integers: \")\n",
        "print(oddints)"
      ]
    },
    {
      "cell_type": "code",
      "execution_count": null,
      "metadata": {
        "colab": {
          "base_uri": "https://localhost:8080/"
        },
        "id": "Tl5mlPh1aPA8",
        "outputId": "1426a1f1-05c9-4aff-9f79-1355d68ef87d"
      },
      "outputs": [
        {
          "name": "stdout",
          "output_type": "stream",
          "text": [
            "Podaj liczbe binarna: 1011011\n",
            "91\n"
          ]
        }
      ],
      "source": [
        "bin = list(input(\"Podaj liczbe binarna: \"))\n",
        "dec = 0\n",
        "for i, b in enumerate(bin):\n",
        "  # print(len(bin) - i - 1)\n",
        "  # print(i, bin)\n",
        "  i = len(bin) - i - 1\n",
        "  # print(i)\n",
        "  dec = dec + int(b) * 2**i\n",
        "print(dec)"
      ]
    },
    {
      "cell_type": "code",
      "execution_count": null,
      "metadata": {
        "colab": {
          "base_uri": "https://localhost:8080/"
        },
        "id": "ZpH8wwAXdEau",
        "outputId": "6d8c2ad5-b5fd-4e3a-b42b-c0e2ff6304bf"
      },
      "outputs": [
        {
          "name": "stdout",
          "output_type": "stream",
          "text": [
            "[59, 51, 88, 21, 13, 54, 5, 46, 36, 7]\n"
          ]
        }
      ],
      "source": [
        "print(listofnum)"
      ]
    },
    {
      "cell_type": "code",
      "execution_count": null,
      "metadata": {
        "colab": {
          "base_uri": "https://localhost:8080/"
        },
        "id": "ZCNCV2WTdR_f",
        "outputId": "f661194c-3247-48f1-a99f-10096550318b"
      },
      "outputs": [
        {
          "name": "stdout",
          "output_type": "stream",
          "text": [
            "38.0\n",
            "[3, 4, 6, 8, 9]\n"
          ]
        }
      ],
      "source": [
        "ar_mean = 0\n",
        "for n in listofnum:\n",
        "  ar_mean = ar_mean + n\n",
        "ar_mean = ar_mean / len(listofnum)\n",
        "print(ar_mean)\n",
        "indexes = list()\n",
        "for i, n in enumerate(listofnum):\n",
        "  if n < ar_mean:\n",
        "    indexes.append(i)\n",
        "print(indexes)"
      ]
    },
    {
      "cell_type": "markdown",
      "metadata": {
        "id": "Y3SZI05nePt8"
      },
      "source": [
        "\n",
        "- (1) Stwórz słownik przechowujący oceny z informatyki dla każdego studenta. Kluczem jest numer indeksu studenta. Na podstawie stworzonego słownika,dla każdego studenta policz średnią arytmetyczną jego ocen.\n",
        "- (2) Wykorzystując słownik policz częstość występowania liczb w liście. Na konsoli powinna być wyświetlona informacja ile razy dana liczba pojawiła się w liście.\n",
        "- (3) Na podstawie zadania 2, znajdź które elementy zostały zduplikowane.\n",
        "- (4) Stwórz słownik polsko-angielski. Zakładamy, że jedno słowo ma dokładnie jedno tłumaczenie. Słownik powinien mieć następujące funkcjonalności:\n",
        " - dodać słowo wraz z tłumaczeniem do słownika, jeśli jeszcze go nie ma\n",
        " - usunąć ze słownika podane słowo wraz z jego tłumaczeniem\n",
        " - wyświetlić cały słownik\n",
        " - zwrócić tłumaczenie dla danego słowa"
      ]
    },
    {
      "cell_type": "code",
      "execution_count": null,
      "metadata": {
        "id": "oEyRDioZixmJ"
      },
      "outputs": [],
      "source": [
        "oceny = {\n",
        "    \"123456\": [5.0, 3.0, 2.0, 3.5, 5.0],\n",
        "    \"654723\": [3.5, 4.0, 4.0, 3.5, 4.0],\n",
        "    \"765765\": [4.0, 5.0, 5.0, 4.5, 4.5],\n",
        "    \"764642\": [2.0, 4.5, 3.5, 3.0, 3.5],\n",
        "    \"867574\": [4.0, 2.0, 3.0, 4.0, 5.0],\n",
        "    \"654354\": [3.0, 3.0, 3.5, 3.0, 4.0],\n",
        "    \"432432\": [3.5, 3.0, 2.0, 2.0, 2.0],\n",
        "    \"099523\": [3.5, 3.5, 4.0, 5.0, 5.0],\n",
        "    \"543512\": [4.5, 5.0, 3.0, 3.5, 4.0],\n",
        "    \"432423\": [4.5, 4.5, 4.5, 3.0, 4.0],\n",
        "    \"986653\": [4.0, 4.0, 4.5, 4.0, 4.5],\n",
        "    \"877741\": [2.0, 2.0, 3.0, 3.5, 3.0],\n",
        "    \"645455\": [3.0, 4.0, 3.0, 3.5, 3.5],\n",
        "    \"878675\": [3.0, 2.0, 3.5, 5.0, 5.0],\n",
        "    \"123654\": [3.5, 5.0, 4.5, 4.5, 3.0],\n",
        "    \"432421\": [2.0, 2.0, 2.0, 2.0, 2.0],\n",
        "    \"987652\": [3.5, 3.0, 3.0, 5.0, 4.0],\n",
        "    \"774231\": [5.0, 4.0, 4.0, 4.5, 3.0],\n",
        "    \"555555\": [5.0, 5.0, 5.0, 5.0, 5.0]\n",
        "}"
      ]
    },
    {
      "cell_type": "code",
      "execution_count": null,
      "metadata": {
        "colab": {
          "base_uri": "https://localhost:8080/"
        },
        "id": "UjCQKwEElLuF",
        "outputId": "489e4dad-9537-4954-b8e9-90b3333d50b1"
      },
      "outputs": [
        {
          "name": "stdout",
          "output_type": "stream",
          "text": [
            "Średnia ocen studenta o indeksie 123456 = 3.7\n",
            "Średnia ocen studenta o indeksie 654723 = 3.8\n",
            "Średnia ocen studenta o indeksie 765765 = 4.6\n",
            "Średnia ocen studenta o indeksie 764642 = 3.3\n",
            "Średnia ocen studenta o indeksie 867574 = 3.6\n",
            "Średnia ocen studenta o indeksie 654354 = 3.3\n",
            "Średnia ocen studenta o indeksie 432432 = 2.5\n",
            "Średnia ocen studenta o indeksie 099523 = 4.2\n",
            "Średnia ocen studenta o indeksie 543512 = 4.0\n",
            "Średnia ocen studenta o indeksie 432423 = 4.1\n",
            "Średnia ocen studenta o indeksie 986653 = 4.2\n",
            "Średnia ocen studenta o indeksie 877741 = 2.7\n",
            "Średnia ocen studenta o indeksie 645455 = 3.4\n",
            "Średnia ocen studenta o indeksie 878675 = 3.7\n",
            "Średnia ocen studenta o indeksie 123654 = 4.1\n",
            "Średnia ocen studenta o indeksie 432421 = 2.0\n",
            "Średnia ocen studenta o indeksie 987652 = 3.7\n",
            "Średnia ocen studenta o indeksie 774231 = 4.1\n",
            "Średnia ocen studenta o indeksie 555555 = 5.0\n"
          ]
        }
      ],
      "source": [
        "for key, val in oceny.items():\n",
        "  ar_mean = 0\n",
        "  for o in val:\n",
        "    ar_mean = ar_mean + o\n",
        "  ar_mean = ar_mean / 5\n",
        "  print(f\"Średnia ocen studenta o indeksie {key} = {ar_mean}\")"
      ]
    },
    {
      "cell_type": "code",
      "execution_count": null,
      "metadata": {
        "colab": {
          "base_uri": "https://localhost:8080/"
        },
        "id": "g3CmoG8hm_qk",
        "outputId": "c0761825-11db-48a2-a6f0-281cccbfbd32"
      },
      "outputs": [
        {
          "name": "stdout",
          "output_type": "stream",
          "text": [
            "{2.0: 1, 3.0: 1, 3.5: 1, 4.0: 0, 4.5: 0, 5.0: 2}\n",
            "{2.0: 0, 3.0: 0, 3.5: 2, 4.0: 3, 4.5: 0, 5.0: 0}\n",
            "{2.0: 0, 3.0: 0, 3.5: 0, 4.0: 1, 4.5: 2, 5.0: 2}\n",
            "{2.0: 1, 3.0: 1, 3.5: 2, 4.0: 0, 4.5: 1, 5.0: 0}\n",
            "{2.0: 1, 3.0: 1, 3.5: 0, 4.0: 2, 4.5: 0, 5.0: 1}\n",
            "{2.0: 0, 3.0: 3, 3.5: 1, 4.0: 1, 4.5: 0, 5.0: 0}\n",
            "{2.0: 3, 3.0: 1, 3.5: 1, 4.0: 0, 4.5: 0, 5.0: 0}\n",
            "{2.0: 0, 3.0: 0, 3.5: 2, 4.0: 1, 4.5: 0, 5.0: 2}\n",
            "{2.0: 0, 3.0: 1, 3.5: 1, 4.0: 1, 4.5: 1, 5.0: 1}\n",
            "{2.0: 0, 3.0: 1, 3.5: 0, 4.0: 1, 4.5: 3, 5.0: 0}\n",
            "{2.0: 0, 3.0: 0, 3.5: 0, 4.0: 3, 4.5: 2, 5.0: 0}\n",
            "{2.0: 2, 3.0: 2, 3.5: 1, 4.0: 0, 4.5: 0, 5.0: 0}\n",
            "{2.0: 0, 3.0: 2, 3.5: 2, 4.0: 1, 4.5: 0, 5.0: 0}\n",
            "{2.0: 1, 3.0: 1, 3.5: 1, 4.0: 0, 4.5: 0, 5.0: 2}\n",
            "{2.0: 0, 3.0: 1, 3.5: 1, 4.0: 0, 4.5: 2, 5.0: 1}\n",
            "{2.0: 5, 3.0: 0, 3.5: 0, 4.0: 0, 4.5: 0, 5.0: 0}\n",
            "{2.0: 0, 3.0: 2, 3.5: 1, 4.0: 1, 4.5: 0, 5.0: 1}\n",
            "{2.0: 0, 3.0: 1, 3.5: 0, 4.0: 2, 4.5: 1, 5.0: 1}\n",
            "{2.0: 0, 3.0: 0, 3.5: 0, 4.0: 0, 4.5: 0, 5.0: 5}\n"
          ]
        }
      ],
      "source": [
        "czestosci = list()\n",
        "for val in oceny.values():\n",
        "  czestosc = {\n",
        "      2.0: 0,\n",
        "      3.0: 0,\n",
        "      3.5: 0,\n",
        "      4.0: 0,\n",
        "      4.5: 0,\n",
        "      5.0: 0\n",
        "  }\n",
        "  for o in val:\n",
        "    czestosc[o] = czestosc[o] + 1\n",
        "  print(czestosc)\n",
        "  czestosci.append(czestosc)"
      ]
    },
    {
      "cell_type": "code",
      "execution_count": null,
      "metadata": {
        "colab": {
          "base_uri": "https://localhost:8080/"
        },
        "id": "UPurBB69pTH4",
        "outputId": "5a67284f-1b1e-4d82-8e98-fcc5b7de6918"
      },
      "outputs": [
        {
          "name": "stdout",
          "output_type": "stream",
          "text": [
            "[{2.0: 1, 3.0: 1, 3.5: 1, 4.0: 0, 4.5: 0, 5.0: 2}, {2.0: 0, 3.0: 0, 3.5: 2, 4.0: 3, 4.5: 0, 5.0: 0}, {2.0: 0, 3.0: 0, 3.5: 0, 4.0: 1, 4.5: 2, 5.0: 2}, {2.0: 1, 3.0: 1, 3.5: 2, 4.0: 0, 4.5: 1, 5.0: 0}, {2.0: 1, 3.0: 1, 3.5: 0, 4.0: 2, 4.5: 0, 5.0: 1}, {2.0: 0, 3.0: 3, 3.5: 1, 4.0: 1, 4.5: 0, 5.0: 0}, {2.0: 3, 3.0: 1, 3.5: 1, 4.0: 0, 4.5: 0, 5.0: 0}, {2.0: 0, 3.0: 0, 3.5: 2, 4.0: 1, 4.5: 0, 5.0: 2}, {2.0: 0, 3.0: 1, 3.5: 1, 4.0: 1, 4.5: 1, 5.0: 1}, {2.0: 0, 3.0: 1, 3.5: 0, 4.0: 1, 4.5: 3, 5.0: 0}, {2.0: 0, 3.0: 0, 3.5: 0, 4.0: 3, 4.5: 2, 5.0: 0}, {2.0: 2, 3.0: 2, 3.5: 1, 4.0: 0, 4.5: 0, 5.0: 0}, {2.0: 0, 3.0: 2, 3.5: 2, 4.0: 1, 4.5: 0, 5.0: 0}, {2.0: 1, 3.0: 1, 3.5: 1, 4.0: 0, 4.5: 0, 5.0: 2}, {2.0: 0, 3.0: 1, 3.5: 1, 4.0: 0, 4.5: 2, 5.0: 1}, {2.0: 5, 3.0: 0, 3.5: 0, 4.0: 0, 4.5: 0, 5.0: 0}, {2.0: 0, 3.0: 2, 3.5: 1, 4.0: 1, 4.5: 0, 5.0: 1}, {2.0: 0, 3.0: 1, 3.5: 0, 4.0: 2, 4.5: 1, 5.0: 1}, {2.0: 0, 3.0: 0, 3.5: 0, 4.0: 0, 4.5: 0, 5.0: 5}]\n"
          ]
        }
      ],
      "source": [
        "print(czestosci)"
      ]
    },
    {
      "cell_type": "code",
      "execution_count": null,
      "metadata": {
        "colab": {
          "background_save": true,
          "base_uri": "https://localhost:8080/"
        },
        "id": "8w8VPr8UpVix",
        "outputId": "79821a59-c731-4967-d18b-054d962a3505"
      },
      "outputs": [
        {
          "name": "stdout",
          "output_type": "stream",
          "text": [
            "=== Student 123456\n",
            "Duplikacja oceny 5.0\n",
            "=== Student 654723\n",
            "Duplikacja oceny 3.5\n",
            "Duplikacja oceny 4.0\n",
            "=== Student 765765\n",
            "Duplikacja oceny 4.5\n",
            "Duplikacja oceny 5.0\n",
            "=== Student 764642\n",
            "Duplikacja oceny 3.5\n",
            "=== Student 867574\n",
            "Duplikacja oceny 4.0\n",
            "=== Student 654354\n",
            "Duplikacja oceny 3.0\n",
            "=== Student 432432\n",
            "Duplikacja oceny 2.0\n",
            "=== Student 099523\n",
            "Duplikacja oceny 3.5\n",
            "Duplikacja oceny 5.0\n",
            "=== Student 543512\n",
            "=== Student 432423\n",
            "Duplikacja oceny 4.5\n",
            "=== Student 986653\n",
            "Duplikacja oceny 4.0\n",
            "Duplikacja oceny 4.5\n",
            "=== Student 877741\n",
            "Duplikacja oceny 2.0\n",
            "Duplikacja oceny 3.0\n",
            "=== Student 645455\n",
            "Duplikacja oceny 3.0\n",
            "Duplikacja oceny 3.5\n",
            "=== Student 878675\n",
            "Duplikacja oceny 5.0\n",
            "=== Student 123654\n",
            "Duplikacja oceny 4.5\n",
            "=== Student 432421\n",
            "Duplikacja oceny 2.0\n",
            "=== Student 987652\n",
            "Duplikacja oceny 3.0\n",
            "=== Student 774231\n",
            "Duplikacja oceny 4.0\n",
            "=== Student 555555\n",
            "Duplikacja oceny 5.0\n"
          ]
        }
      ],
      "source": [
        "# import itertools\n",
        "\n",
        "# for st, cz in itertools.product(oceny, czestosci):\n",
        "#   print(st, cz)\n",
        "sillylist = list()\n",
        "for key, oc in enumerate(oceny):\n",
        "  sillylist.append(oc)\n",
        "# print(sillylist)\n",
        "for j, czs in enumerate(czestosci):\n",
        "  print(f\"=== Student {sillylist[j]}\")\n",
        "  # print(j, czs)\n",
        "  for oc, cz in czs.items():\n",
        "    if cz >= 2:\n",
        "      # pass\n",
        "      print(f\"Duplikacja oceny {oc}\")"
      ]
    },
    {
      "cell_type": "markdown",
      "source": [
        "słownik ... oplskog angneikelsfsfssfki...."
      ],
      "metadata": {
        "id": "e0-cUUUwuI-n"
      }
    },
    {
      "cell_type": "code",
      "source": [
        "slownikpoleng = {}\n",
        "slownikpoleng[\"jabłko\"] = \"apple\"\n",
        "slownikpoleng[\"obowiązkowy\"] = \"obligatory\"\n",
        "slownikpoleng[\"przeszkoda\"] = \"obstacle\"\n",
        "slownikpoleng[\"bariera\"] = \"barrier\"\n",
        "slownikpoleng[\"kot\"] = \"cat\"\n",
        "print(slownikpoleng)\n",
        "# a)\n",
        "slownikpoleng[\"XD\"] = \"LOL\"\n",
        "print(slownikpoleng)\n",
        "# b)\n",
        "del slownikpoleng[\"obowiązkowy\"]\n",
        "# c)\n",
        "print(slownikpoleng)\n",
        "# d)\n",
        "print(slownikpoleng.get(\"przeszkoda\"))"
      ],
      "metadata": {
        "colab": {
          "base_uri": "https://localhost:8080/"
        },
        "id": "EKstRjY5uL0v",
        "outputId": "b5e9bf5e-553a-4052-e763-76a0ef79fb61"
      },
      "execution_count": 90,
      "outputs": [
        {
          "output_type": "stream",
          "name": "stdout",
          "text": [
            "{'jabłko': 'apple', 'obowiązkowy': 'obligatory', 'przeszkoda': 'obstacle', 'bariera': 'barrier', 'kot': 'cat'}\n",
            "{'jabłko': 'apple', 'obowiązkowy': 'obligatory', 'przeszkoda': 'obstacle', 'bariera': 'barrier', 'kot': 'cat', 'XD': 'LOL'}\n",
            "{'jabłko': 'apple', 'przeszkoda': 'obstacle', 'bariera': 'barrier', 'kot': 'cat', 'XD': 'LOL'}\n",
            "obstacle\n"
          ]
        }
      ]
    },
    {
      "cell_type": "markdown",
      "source": [
        "zbiory <3\n",
        "- (1) Znajdź elementy unikatowe w liście\n",
        "- (2) Znajdź elementy, które się powtarzają w liście"
      ],
      "metadata": {
        "id": "EUt7gytlujUz"
      }
    }
  ],
  "metadata": {
    "colab": {
      "provenance": [],
      "authorship_tag": "ABX9TyPbq7xcxFSQ3TG6F1DDRKTg",
      "include_colab_link": true
    },
    "kernelspec": {
      "display_name": "Python 3",
      "name": "python3"
    },
    "language_info": {
      "name": "python"
    }
  },
  "nbformat": 4,
  "nbformat_minor": 0
}