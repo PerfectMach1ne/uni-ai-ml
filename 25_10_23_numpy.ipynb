{
  "nbformat": 4,
  "nbformat_minor": 0,
  "metadata": {
    "colab": {
      "provenance": [],
      "authorship_tag": "ABX9TyOSioxBkTdZ7fdS+8YNww/d",
      "include_colab_link": true
    },
    "kernelspec": {
      "name": "python3",
      "display_name": "Python 3"
    },
    "language_info": {
      "name": "python"
    }
  },
  "cells": [
    {
      "cell_type": "markdown",
      "metadata": {
        "id": "view-in-github",
        "colab_type": "text"
      },
      "source": [
        "<a href=\"https://colab.research.google.com/github/PerfectMach1ne/uni-ai-ml/blob/main/25_10_23_numpy.ipynb\" target=\"_parent\"><img src=\"https://colab.research.google.com/assets/colab-badge.svg\" alt=\"Open In Colab\"/></a>"
      ]
    },
    {
      "cell_type": "markdown",
      "source": [
        "# 25.10.23, part II\n",
        "## Numpyyy!!!!\n",
        "les go"
      ],
      "metadata": {
        "id": "T-ABxnbE4zIV"
      }
    },
    {
      "cell_type": "code",
      "execution_count": 1,
      "metadata": {
        "id": "gxPzVCrK4wa1"
      },
      "outputs": [],
      "source": [
        "import numpy as np"
      ]
    },
    {
      "cell_type": "code",
      "source": [
        "arr_1 = np.array([1, 2, 3, 4]) # tworzenie na podst. listy\n",
        "print(\"Typ tablicy: \", type(arr_1))\n",
        "print(\"Tablica 1D: \",arr_1)\n",
        "\n",
        "arr_1 = np.array((1, 2, 3, 4)) # tw. na podst. krotki\n",
        "print(\"Typ tablicy: \", type(arr_1))\n",
        "print(\"Tablica 1D: \",arr_1)"
      ],
      "metadata": {
        "colab": {
          "base_uri": "https://localhost:8080/"
        },
        "id": "AQUCIc6BP50b",
        "outputId": "5df9cedc-372a-40d2-83d4-a580eab48c8e"
      },
      "execution_count": 3,
      "outputs": [
        {
          "output_type": "stream",
          "name": "stdout",
          "text": [
            "Typ tablicy:  <class 'numpy.ndarray'>\n",
            "Tablica 1D:  [1 2 3 4]\n",
            "Typ tablicy:  <class 'numpy.ndarray'>\n",
            "Tablica 1D:  [1 2 3 4]\n"
          ]
        }
      ]
    },
    {
      "cell_type": "markdown",
      "source": [
        "#### Typowe funkcje matrycowe:"
      ],
      "metadata": {
        "id": "rpQVwbSeRMkp"
      }
    },
    {
      "cell_type": "code",
      "source": [
        "arr_2=np.zeros(5)\n",
        "arr_3=np.ones(5)\n",
        "arr_4=np.full(5,3)\n",
        "arr_5=np.arange(10)\n",
        "print(\"Tablica wypleniona 0: \", arr_2)\n",
        "print(\"Tablica wypleniona 1: \", arr_3)\n",
        "print(\"Tablica wypleniona 3: \", arr_4)\n",
        "print(\"Tablica wypleniona liczbami od 0 do 9: \", arr_5)"
      ],
      "metadata": {
        "colab": {
          "base_uri": "https://localhost:8080/"
        },
        "id": "PJI_G1uQRPwF",
        "outputId": "87a6c454-2077-492f-f28c-6ae4134d89af"
      },
      "execution_count": 4,
      "outputs": [
        {
          "output_type": "stream",
          "name": "stdout",
          "text": [
            "Tablica wypleniona 0:  [0. 0. 0. 0. 0.]\n",
            "Tablica wypleniona 1:  [1. 1. 1. 1. 1.]\n",
            "Tablica wypleniona 3:  [3 3 3 3 3]\n",
            "Tablica wypleniona liczbami od 0 do 9:  [0 1 2 3 4 5 6 7 8 9]\n"
          ]
        }
      ]
    },
    {
      "cell_type": "code",
      "source": [
        "# arr_6 = np.zeros(2,3)"
      ],
      "metadata": {
        "colab": {
          "base_uri": "https://localhost:8080/",
          "height": 175
        },
        "id": "vHDAHaWiRP5y",
        "outputId": "bf5876d6-ce2f-4998-956e-7de648201114"
      },
      "execution_count": 5,
      "outputs": [
        {
          "output_type": "error",
          "ename": "TypeError",
          "evalue": "ignored",
          "traceback": [
            "\u001b[0;31m---------------------------------------------------------------------------\u001b[0m",
            "\u001b[0;31mTypeError\u001b[0m                                 Traceback (most recent call last)",
            "\u001b[0;32m<ipython-input-5-66b8aac6f198>\u001b[0m in \u001b[0;36m<cell line: 1>\u001b[0;34m()\u001b[0m\n\u001b[0;32m----> 1\u001b[0;31m \u001b[0marr_6\u001b[0m \u001b[0;34m=\u001b[0m \u001b[0mnp\u001b[0m\u001b[0;34m.\u001b[0m\u001b[0mzeros\u001b[0m\u001b[0;34m(\u001b[0m\u001b[0;36m2\u001b[0m\u001b[0;34m,\u001b[0m\u001b[0;36m3\u001b[0m\u001b[0;34m)\u001b[0m\u001b[0;34m\u001b[0m\u001b[0;34m\u001b[0m\u001b[0m\n\u001b[0m",
            "\u001b[0;31mTypeError\u001b[0m: Cannot interpret '3' as a data type"
          ]
        }
      ]
    },
    {
      "cell_type": "code",
      "source": [
        "print(\"Cala tablica 1D: \", arr_1)\n",
        "print(\"Liczba elementow w tablicy: \", len(arr_1))\n",
        "print(\"Pierwszy element tablicy: \", arr_1[0])\n",
        "print(\"Ostatni element tablicy: \", arr_1[-1])\n",
        "print(\"Dwa pierwsze elementy w tablicy: \", arr_1[0:2])\n",
        "print(\"Dwa ostatnie elementy w tablicy: \", arr_1[-2:])\n",
        "print(\"Elementy znajdujące się pod parzystymi indeksami: \", arr_1[::2])\n",
        "arr_1[0]=100\n",
        "print(\"Cala tablica 1D po modyfikacji: \", arr_1)"
      ],
      "metadata": {
        "colab": {
          "base_uri": "https://localhost:8080/"
        },
        "id": "eXvVYFLbRcPC",
        "outputId": "0b63278e-0c23-43a7-f606-e0805f2509e1"
      },
      "execution_count": 6,
      "outputs": [
        {
          "output_type": "stream",
          "name": "stdout",
          "text": [
            "Cala tablica 1D:  [1 2 3 4]\n",
            "Liczba elementow w tablicy:  4\n",
            "Pierwszy element tablicy:  1\n",
            "Ostatni element tablicy:  4\n",
            "Dwa pierwsze elementy w tablicy:  [1 2]\n",
            "Dwa ostatnie elementy w tablicy:  [3 4]\n",
            "Elementy znajdujące się pod parzystymi indeksami:  [1 3]\n",
            "Cala tablica 1D po modyfikacji:  [100   2   3   4]\n"
          ]
        }
      ]
    },
    {
      "cell_type": "code",
      "source": [
        "arr_1 = np.array([1, 2, 3, 4])\n",
        "arr_2 = np.array([-1, -2, -3, -4])\n",
        "print(\"Tablica arr_1: \", arr_1)\n",
        "print(\"Tablica arr_2: \", arr_2)\n",
        "\n",
        "res=arr_1+arr_2\n",
        "print(\"arr_1 + arr_2: \", res)\n",
        "res=arr_1*arr_2\n",
        "print(\"arr_1 * arr_2: \", res)"
      ],
      "metadata": {
        "colab": {
          "base_uri": "https://localhost:8080/"
        },
        "id": "LIu_3STqRpDx",
        "outputId": "51a7681b-d8e8-4644-d133-80ad0bfe2538"
      },
      "execution_count": 7,
      "outputs": [
        {
          "output_type": "stream",
          "name": "stdout",
          "text": [
            "Tablica arr_1:  [1 2 3 4]\n",
            "Tablica arr_2:  [-1 -2 -3 -4]\n",
            "arr_1 + arr_2:  [0 0 0 0]\n",
            "arr_1 * arr_2:  [ -1  -4  -9 -16]\n"
          ]
        }
      ]
    },
    {
      "cell_type": "code",
      "source": [
        "print(\"średnia arr_1: \", arr_1.mean())\n",
        "print(\"Max arr_1: \", arr_1.max())\n",
        "print(\"średnia arr_2: \", arr_2.mean())\n",
        "print(\"średnia res: \", res.mean())\n",
        "print(\"max res: \", res.max())"
      ],
      "metadata": {
        "colab": {
          "base_uri": "https://localhost:8080/"
        },
        "id": "nYVr4xFHRv3g",
        "outputId": "87786a4c-a5c5-4cec-9047-6d830d3a9aaf"
      },
      "execution_count": 11,
      "outputs": [
        {
          "output_type": "stream",
          "name": "stdout",
          "text": [
            "średnia arr_1:  2.5\n",
            "Max arr_1:  4\n",
            "średnia arr_2:  -2.5\n",
            "średnia res:  -7.5\n",
            "max res:  -1\n"
          ]
        }
      ]
    },
    {
      "cell_type": "markdown",
      "source": [
        "#### Idea maski"
      ],
      "metadata": {
        "id": "Fop3QPOsSB_T"
      }
    },
    {
      "cell_type": "code",
      "source": [
        "mask=arr_1>1\n",
        "print(\"Tablica 1D: \", arr_1)\n",
        "print(\"Czy element wiekszy od 1? \", mask)\n",
        "print(\"Liczba elementow wieksza od 1: \", mask.sum())\n",
        "print(\"Elementy ktora sa wieksze od 1: \", arr_1[mask])"
      ],
      "metadata": {
        "colab": {
          "base_uri": "https://localhost:8080/"
        },
        "id": "sr_a5_RkRxI5",
        "outputId": "8aec8d3e-d492-480f-b4a6-22985c109780"
      },
      "execution_count": 12,
      "outputs": [
        {
          "output_type": "stream",
          "name": "stdout",
          "text": [
            "Tablica 1D:  [1 2 3 4]\n",
            "Czy element wiekszy od 1?  [False  True  True  True]\n",
            "Liczba elementow wieksza od 1:  3\n",
            "Elementy ktora sa wieksze od 1:  [2 3 4]\n"
          ]
        }
      ]
    },
    {
      "cell_type": "code",
      "source": [
        "mask_0 = arr_1>=3\n",
        "print(mask_0)"
      ],
      "metadata": {
        "colab": {
          "base_uri": "https://localhost:8080/"
        },
        "id": "z-9ZqchRSBEO",
        "outputId": "34011b9e-ead4-4686-a7b7-4513ccc24e9e"
      },
      "execution_count": 13,
      "outputs": [
        {
          "output_type": "stream",
          "name": "stdout",
          "text": [
            "[False False  True  True]\n"
          ]
        }
      ]
    },
    {
      "cell_type": "code",
      "source": [
        "mask_1=arr_1!=4\n",
        "print(mask_1)"
      ],
      "metadata": {
        "colab": {
          "base_uri": "https://localhost:8080/"
        },
        "id": "0svT2MXfSPVo",
        "outputId": "fe5b1b0c-7a79-4eeb-f05a-97d6ea24e944"
      },
      "execution_count": 14,
      "outputs": [
        {
          "output_type": "stream",
          "name": "stdout",
          "text": [
            "[ True  True  True False]\n"
          ]
        }
      ]
    },
    {
      "cell_type": "markdown",
      "source": [
        "#### enumerate() na tablicy"
      ],
      "metadata": {
        "id": "ZuTkkKBtSwS8"
      }
    },
    {
      "cell_type": "code",
      "source": [
        "for i,el in enumerate(arr_1):\n",
        "  print(f\"{i} element w tablicy: {el}\")"
      ],
      "metadata": {
        "colab": {
          "base_uri": "https://localhost:8080/"
        },
        "id": "YlVDBZPHSXU5",
        "outputId": "247d681a-2647-47ae-e8a7-b513ba4dd77e"
      },
      "execution_count": 15,
      "outputs": [
        {
          "output_type": "stream",
          "name": "stdout",
          "text": [
            "0 element w tablicy: 1\n",
            "1 element w tablicy: 2\n",
            "2 element w tablicy: 3\n",
            "3 element w tablicy: 4\n"
          ]
        }
      ]
    },
    {
      "cell_type": "markdown",
      "source": [
        "### Tablice 2D!!!!"
      ],
      "metadata": {
        "id": "INMyMe-USy8Z"
      }
    },
    {
      "cell_type": "code",
      "source": [
        "arr_5=np.array([[2,3,5,1], [5,1,2,8], [5,1,6,-1]])\n",
        "print(\"Tablica 2D: \\n\", arr_5)"
      ],
      "metadata": {
        "colab": {
          "base_uri": "https://localhost:8080/"
        },
        "id": "ZXraTePhXFR7",
        "outputId": "95d060f5-8155-4e5c-aa54-d2f046a4465a"
      },
      "execution_count": 19,
      "outputs": [
        {
          "output_type": "stream",
          "name": "stdout",
          "text": [
            "Tablica 2D: \n",
            " [[ 2  3  5  1]\n",
            " [ 5  1  2  8]\n",
            " [ 5  1  6 -1]]\n"
          ]
        }
      ]
    },
    {
      "cell_type": "code",
      "source": [
        "print(\"Wymiary tablicy: \", arr_5.shape)\n",
        "print(\"Element o wspolrzednych 0,0: \", arr_5[0,0])\n",
        "print(\"Pierwsza kolumn: \", arr_5[:,0])\n",
        "print(\"Pierwszy wiersz: \", arr_5[0,:])\n",
        "print(\"Obszar tablicy: \\n\", arr_5[0:2, 1:3])\n",
        "print(\"Parzyste kolumny: \\n\", arr_5[:, ::2])\n",
        "print(\"Parzyste wiersze: \\n\",arr_5[::2,:])"
      ],
      "metadata": {
        "colab": {
          "base_uri": "https://localhost:8080/"
        },
        "id": "fC20r_AHXJHS",
        "outputId": "2d0e773d-f724-479f-f4e7-cdfbc7c532fd"
      },
      "execution_count": 18,
      "outputs": [
        {
          "output_type": "stream",
          "name": "stdout",
          "text": [
            "Wymiary tablicy:  (3, 4)\n",
            "Element o wspolrzednych 0,0:  2\n",
            "Pierwsza kolumn:  [2 5 5]\n",
            "Pierwszy wiersz:  [2 3 5 1]\n",
            "Obszar tablicy: \n",
            " [[3 5]\n",
            " [1 2]]\n",
            "Parzyste kolumny: \n",
            " [[2 5]\n",
            " [5 2]\n",
            " [5 6]]\n",
            "Parzyste wiersze: \n",
            " [[ 2  3  5  1]\n",
            " [ 5  1  6 -1]]\n"
          ]
        }
      ]
    },
    {
      "cell_type": "code",
      "source": [
        "s_cols=arr_5.sum(axis=0)\n",
        "s_rows=arr_5.sum(axis=1)\n",
        "print(f\"Suma elementow w poszczegolnych kolumnach jest rowna {s_cols}, a w wierszach {s_rows}\")"
      ],
      "metadata": {
        "colab": {
          "base_uri": "https://localhost:8080/"
        },
        "id": "3oyz8qDBX5Fr",
        "outputId": "50cd5763-3d92-471e-97ff-d801cfb1191d"
      },
      "execution_count": 20,
      "outputs": [
        {
          "output_type": "stream",
          "name": "stdout",
          "text": [
            "Suma elementow w poszczegolnych kolumnach jest rowna [12  5 13  8], a w wierszach [11 16 11]\n"
          ]
        }
      ]
    },
    {
      "cell_type": "code",
      "source": [
        "mask=arr_5>4\n",
        "print(\"Maska: \\n\",mask)\n",
        "print(\"Elementy >4: \\n\", arr_5[mask])"
      ],
      "metadata": {
        "colab": {
          "base_uri": "https://localhost:8080/"
        },
        "id": "Gw9dwfVOYO1B",
        "outputId": "0b1926b1-6f19-4a07-a313-889572ca3516"
      },
      "execution_count": 21,
      "outputs": [
        {
          "output_type": "stream",
          "name": "stdout",
          "text": [
            "Maska: \n",
            " [[False False  True False]\n",
            " [ True False False  True]\n",
            " [ True False  True False]]\n",
            "Elementy >4: \n",
            " [5 5 8 5 6]\n"
          ]
        }
      ]
    },
    {
      "cell_type": "code",
      "source": [
        "# oo ciekawe\n",
        "index_cols=[1,-1]\n",
        "selected_cols=arr_5[:,index_cols]\n",
        "print(\"Druga i ostatnia kolumna: \\n\", selected_cols)"
      ],
      "metadata": {
        "colab": {
          "base_uri": "https://localhost:8080/"
        },
        "id": "6CTFcg8aYmfQ",
        "outputId": "88f6b890-c3f6-47d1-9213-3ea458e06666"
      },
      "execution_count": 22,
      "outputs": [
        {
          "output_type": "stream",
          "name": "stdout",
          "text": [
            "Druga i ostatnia kolumna: \n",
            " [[ 3  1]\n",
            " [ 1  8]\n",
            " [ 1 -1]]\n"
          ]
        }
      ]
    },
    {
      "cell_type": "code",
      "source": [
        "\n",
        "print(\"Tablica z podzialem na wiersze\")\n",
        "for i,row in enumerate(arr_5):\n",
        "  print(f\"Wiersz {i}: {row}\")"
      ],
      "metadata": {
        "colab": {
          "base_uri": "https://localhost:8080/"
        },
        "id": "y3KkkKG_Yx3o",
        "outputId": "df00d804-8f3c-466b-c1fa-ebbe78f68257"
      },
      "execution_count": 23,
      "outputs": [
        {
          "output_type": "stream",
          "name": "stdout",
          "text": [
            "Tablica z podzialem na wiersze\n",
            "Wiersz 0: [2 3 5 1]\n",
            "Wiersz 1: [5 1 2 8]\n",
            "Wiersz 2: [ 5  1  6 -1]\n"
          ]
        }
      ]
    },
    {
      "cell_type": "code",
      "source": [
        "print(\"Tablica element po elemencie\")\n",
        "for row in arr_5: # it's bc of how np arrays are structured, for reads rows first\n",
        "  for el in row:\n",
        "    print(el, end=\" \")\n",
        "  print() # for a new line"
      ],
      "metadata": {
        "colab": {
          "base_uri": "https://localhost:8080/"
        },
        "id": "FHVInw--Yyrh",
        "outputId": "b3b356f2-6165-48b3-fa0e-c6f33e4750e1"
      },
      "execution_count": 24,
      "outputs": [
        {
          "output_type": "stream",
          "name": "stdout",
          "text": [
            "Tablica element po elemencie\n",
            "2 3 5 1 \n",
            "5 1 2 8 \n",
            "5 1 6 -1 \n"
          ]
        }
      ]
    },
    {
      "cell_type": "markdown",
      "source": [
        "#### zmiana wymiarów tablic"
      ],
      "metadata": {
        "id": "-ADb2x5AaWxn"
      }
    },
    {
      "cell_type": "code",
      "source": [
        "arr_1=np.array([1,2,3,4])\n",
        "print(\"Tablica przed zmiana ksztaltu: \",arr_1)\n",
        "\n",
        "arr_2=arr_1.reshape(2,2)\n",
        "print(\"Tablica po zmianie: \",arr_2)\n",
        "\n",
        "arr_3=arr_2.reshape(4)\n",
        "print(\"Tablica po kolejnej zmianie: \",arr_3)"
      ],
      "metadata": {
        "colab": {
          "base_uri": "https://localhost:8080/"
        },
        "id": "FuUHenDxaU4Y",
        "outputId": "d92b4733-4962-4080-cc4b-8dffdee1a186"
      },
      "execution_count": 25,
      "outputs": [
        {
          "output_type": "stream",
          "name": "stdout",
          "text": [
            "Tablica przed zmiana ksztaltu:  [1 2 3 4]\n",
            "Tablica po zmianie:  [[1 2]\n",
            " [3 4]]\n",
            "Tablica po kolejnej zmianie:  [1 2 3 4]\n"
          ]
        }
      ]
    },
    {
      "cell_type": "code",
      "source": [
        "arr_4 = arr_3.reshape(4,1)\n",
        "print(arr_4)"
      ],
      "metadata": {
        "colab": {
          "base_uri": "https://localhost:8080/"
        },
        "id": "SWXI3KVAacUw",
        "outputId": "eb8b3c0e-ecf4-49cf-ab99-3bfcde868141"
      },
      "execution_count": 29,
      "outputs": [
        {
          "output_type": "stream",
          "name": "stdout",
          "text": [
            "[[1]\n",
            " [2]\n",
            " [3]\n",
            " [4]]\n"
          ]
        }
      ]
    },
    {
      "cell_type": "markdown",
      "source": [
        "#### dodawanie/usuwanie wymiarów"
      ],
      "metadata": {
        "id": "7E1W3LwvanJY"
      }
    },
    {
      "cell_type": "code",
      "source": [
        "arr_1=np.array([1,2,3,4])\n",
        "print(\"Przed expand_dims: \\n\",arr_1)\n",
        "arr_2=np.expand_dims(arr_1, axis=0)\n",
        "print(\"Po expand_dims, axis=0: \\n\",arr_2)\n",
        "arr_3=np.expand_dims(arr_1, axis=1)\n",
        "print(\"Po expand_dims, axis=1: \\n\",arr_3)\n",
        "\n",
        "print(\"Przed squeeze, axis=0: \\n\",arr_2)\n",
        "arr_4=np.squeeze(arr_2, axis=0)\n",
        "print(\"Po squeeze, axis=0: \\n\",arr_4)\n",
        "\n",
        "print(\"Przed squeeze, axis=1: \\n\",arr_3)\n",
        "arr_5=np.squeeze(arr_3, axis=1)\n",
        "print(\"Po squeeze, axis=1: \\n\",arr_5)"
      ],
      "metadata": {
        "colab": {
          "base_uri": "https://localhost:8080/"
        },
        "id": "mEwHxyJUapCp",
        "outputId": "956247c4-060d-44ce-a605-4e047f08944d"
      },
      "execution_count": 30,
      "outputs": [
        {
          "output_type": "stream",
          "name": "stdout",
          "text": [
            "Przed expand_dims: \n",
            " [1 2 3 4]\n",
            "Po expand_dims, axis=0: \n",
            " [[1 2 3 4]]\n",
            "Po expand_dims, axis=1: \n",
            " [[1]\n",
            " [2]\n",
            " [3]\n",
            " [4]]\n",
            "Przed squeeze, axis=0: \n",
            " [[1 2 3 4]]\n",
            "Po squeeze, axis=0: \n",
            " [1 2 3 4]\n",
            "Przed squeeze, axis=1: \n",
            " [[1]\n",
            " [2]\n",
            " [3]\n",
            " [4]]\n",
            "Po squeeze, axis=1: \n",
            " [1 2 3 4]\n"
          ]
        }
      ]
    },
    {
      "cell_type": "code",
      "source": [
        "arr_1=np.array([1,2,3,4])\n",
        "print(arr_1)"
      ],
      "metadata": {
        "colab": {
          "base_uri": "https://localhost:8080/"
        },
        "id": "OeQPKpJ_bFv6",
        "outputId": "a1e15a9b-10b9-447c-f52d-b55239487ab7"
      },
      "execution_count": 31,
      "outputs": [
        {
          "output_type": "stream",
          "name": "stdout",
          "text": [
            "[1 2 3 4]\n"
          ]
        }
      ]
    },
    {
      "cell_type": "code",
      "source": [
        "arr_1=np.expand_dims(arr_1, axis=1)\n",
        "print(arr_1)"
      ],
      "metadata": {
        "colab": {
          "base_uri": "https://localhost:8080/"
        },
        "id": "g0DwDdU7bHlK",
        "outputId": "aa5c2306-602f-4cdf-8ff1-12fe5c090687"
      },
      "execution_count": 32,
      "outputs": [
        {
          "output_type": "stream",
          "name": "stdout",
          "text": [
            "[[1]\n",
            " [2]\n",
            " [3]\n",
            " [4]]\n"
          ]
        }
      ]
    },
    {
      "cell_type": "code",
      "source": [
        "arr_1=np.squeeze(arr_1, axis=0)"
      ],
      "metadata": {
        "colab": {
          "base_uri": "https://localhost:8080/",
          "height": 321
        },
        "id": "UKNiSveNbOZE",
        "outputId": "640419da-42e3-4865-cc9f-d9e7ffd97226"
      },
      "execution_count": 33,
      "outputs": [
        {
          "output_type": "error",
          "ename": "ValueError",
          "evalue": "ignored",
          "traceback": [
            "\u001b[0;31m---------------------------------------------------------------------------\u001b[0m",
            "\u001b[0;31mValueError\u001b[0m                                Traceback (most recent call last)",
            "\u001b[0;32m<ipython-input-33-a28586f4b82b>\u001b[0m in \u001b[0;36m<cell line: 1>\u001b[0;34m()\u001b[0m\n\u001b[0;32m----> 1\u001b[0;31m \u001b[0marr_1\u001b[0m\u001b[0;34m=\u001b[0m\u001b[0mnp\u001b[0m\u001b[0;34m.\u001b[0m\u001b[0msqueeze\u001b[0m\u001b[0;34m(\u001b[0m\u001b[0marr_1\u001b[0m\u001b[0;34m,\u001b[0m \u001b[0maxis\u001b[0m\u001b[0;34m=\u001b[0m\u001b[0;36m0\u001b[0m\u001b[0;34m)\u001b[0m\u001b[0;34m\u001b[0m\u001b[0;34m\u001b[0m\u001b[0m\n\u001b[0m",
            "\u001b[0;32m/usr/local/lib/python3.10/dist-packages/numpy/core/overrides.py\u001b[0m in \u001b[0;36msqueeze\u001b[0;34m(*args, **kwargs)\u001b[0m\n",
            "\u001b[0;32m/usr/local/lib/python3.10/dist-packages/numpy/core/fromnumeric.py\u001b[0m in \u001b[0;36msqueeze\u001b[0;34m(a, axis)\u001b[0m\n\u001b[1;32m   1543\u001b[0m         \u001b[0;32mreturn\u001b[0m \u001b[0msqueeze\u001b[0m\u001b[0;34m(\u001b[0m\u001b[0;34m)\u001b[0m\u001b[0;34m\u001b[0m\u001b[0;34m\u001b[0m\u001b[0m\n\u001b[1;32m   1544\u001b[0m     \u001b[0;32melse\u001b[0m\u001b[0;34m:\u001b[0m\u001b[0;34m\u001b[0m\u001b[0;34m\u001b[0m\u001b[0m\n\u001b[0;32m-> 1545\u001b[0;31m         \u001b[0;32mreturn\u001b[0m \u001b[0msqueeze\u001b[0m\u001b[0;34m(\u001b[0m\u001b[0maxis\u001b[0m\u001b[0;34m=\u001b[0m\u001b[0maxis\u001b[0m\u001b[0;34m)\u001b[0m\u001b[0;34m\u001b[0m\u001b[0;34m\u001b[0m\u001b[0m\n\u001b[0m\u001b[1;32m   1546\u001b[0m \u001b[0;34m\u001b[0m\u001b[0m\n\u001b[1;32m   1547\u001b[0m \u001b[0;34m\u001b[0m\u001b[0m\n",
            "\u001b[0;31mValueError\u001b[0m: cannot select an axis to squeeze out which has size not equal to one"
          ]
        }
      ]
    },
    {
      "cell_type": "code",
      "source": [
        "arr_1=np.squeeze(arr_1, axis=1)"
      ],
      "metadata": {
        "id": "EsrLQObdbWCZ"
      },
      "execution_count": 34,
      "outputs": []
    },
    {
      "cell_type": "code",
      "source": [
        "print(arr_1)"
      ],
      "metadata": {
        "colab": {
          "base_uri": "https://localhost:8080/"
        },
        "id": "wbKlgt9dbXIi",
        "outputId": "347d26dd-339b-47a0-9746-3eb17beb3da9"
      },
      "execution_count": 35,
      "outputs": [
        {
          "output_type": "stream",
          "name": "stdout",
          "text": [
            "[1 2 3 4]\n"
          ]
        }
      ]
    },
    {
      "cell_type": "markdown",
      "source": [
        "### zadanka 1-4"
      ],
      "metadata": {
        "id": "vDpqOvYFbycI"
      }
    },
    {
      "cell_type": "code",
      "source": [
        "arr_kroki=np.array((515.1, 314.3, 4324.0, 53.1, 128.3, 444.4, 712.8, 951,3, 432.5, 670.2, 98.5))"
      ],
      "metadata": {
        "id": "IyWVTDZDb4B5"
      },
      "execution_count": 77,
      "outputs": []
    },
    {
      "cell_type": "code",
      "source": [
        "arr_kroki"
      ],
      "metadata": {
        "colab": {
          "base_uri": "https://localhost:8080/"
        },
        "id": "HymWK82_b0lx",
        "outputId": "db70fe90-8caf-458c-96a5-ac0fc9c3f517"
      },
      "execution_count": 37,
      "outputs": [
        {
          "output_type": "execute_result",
          "data": {
            "text/plain": [
              "array([5.151e+02, 3.143e+02, 4.324e+03, 5.310e+01, 1.283e+02, 4.444e+02,\n",
              "       7.128e+02, 9.510e+02, 3.000e+00, 4.325e+02, 6.702e+02, 9.850e+01])"
            ]
          },
          "metadata": {},
          "execution_count": 37
        }
      ]
    },
    {
      "cell_type": "code",
      "source": [
        "print(arr_kroki.mean())"
      ],
      "metadata": {
        "colab": {
          "base_uri": "https://localhost:8080/"
        },
        "id": "_ennoXrwcK36",
        "outputId": "a59d72d9-7930-440b-9f40-7b6a0eb99845"
      },
      "execution_count": 38,
      "outputs": [
        {
          "output_type": "stream",
          "name": "stdout",
          "text": [
            "720.6\n"
          ]
        }
      ]
    },
    {
      "cell_type": "code",
      "source": [
        "print(arr_kroki<arr_kroki.mean())"
      ],
      "metadata": {
        "colab": {
          "base_uri": "https://localhost:8080/"
        },
        "id": "WdY8QhxLcOjV",
        "outputId": "32f161a0-6e07-44c4-cc5b-4a519da1d94a"
      },
      "execution_count": 39,
      "outputs": [
        {
          "output_type": "stream",
          "name": "stdout",
          "text": [
            "[ True  True False  True  True  True  True False  True  True  True  True]\n"
          ]
        }
      ]
    },
    {
      "cell_type": "code",
      "source": [
        "print(arr_kroki>30000.0) # LMAO"
      ],
      "metadata": {
        "colab": {
          "base_uri": "https://localhost:8080/"
        },
        "id": "DMt6GUckdSNA",
        "outputId": "a6ab4bd3-a84b-4a06-bd37-4033117f0be9"
      },
      "execution_count": 42,
      "outputs": [
        {
          "output_type": "stream",
          "name": "stdout",
          "text": [
            "[False False False False False False False False False False False False]\n"
          ]
        }
      ]
    },
    {
      "cell_type": "code",
      "source": [
        "for e in arr_kroki:\n",
        "  print(e, end=\" \")"
      ],
      "metadata": {
        "colab": {
          "base_uri": "https://localhost:8080/"
        },
        "id": "zrUVP9lkd0yB",
        "outputId": "b3edfce2-80b7-4b97-aba4-5dcf7eb2ec80"
      },
      "execution_count": 47,
      "outputs": [
        {
          "output_type": "stream",
          "name": "stdout",
          "text": [
            "515.1 314.3 4324.0 53.1 128.3 444.4 712.8 951.0 3.0 432.5 670.2 98.5 "
          ]
        }
      ]
    },
    {
      "cell_type": "code",
      "source": [
        "# print(!arr_kroki>30000.0)\n",
        "# print(arr_kroki!>30000.0)\n",
        "print(arr_kroki<=30000.0) # big math brain lol"
      ],
      "metadata": {
        "colab": {
          "base_uri": "https://localhost:8080/"
        },
        "id": "eI0NsQaudX_A",
        "outputId": "a18f66e5-76d3-4da7-c759-62f440b09233"
      },
      "execution_count": 46,
      "outputs": [
        {
          "output_type": "stream",
          "name": "stdout",
          "text": [
            "[ True  True  True  True  True  True  True  True  True  True  True  True]\n"
          ]
        }
      ]
    },
    {
      "cell_type": "markdown",
      "source": [
        "### zadanka 5-10"
      ],
      "metadata": {
        "id": "laFCrfzEeD8R"
      }
    },
    {
      "cell_type": "code",
      "source": [
        "arr_wydatki = np.array([\n",
        "    [190.55, 180.42, 123.31, 90.98, 150.21, 110.10, 230.12, 130.34, 153.27, 400.31, 200.35, 300.03],\n",
        "    [32.12, 175.10, 240.32, 6.77, 400.12, 120.13, 245.23, 140.13, 182.98, 194.32, 567.12, 131.20],\n",
        "    [322.12, 15.10, 20.32, 16.77, 40.12, 10.13, 45.23, 40.13, 82.98, 14.32, 57.12, 11.20],\n",
        "    [2.12, 5.10, 2.32, 156.77, 410.12, 132.13, 13.23, 14.13, 18.98, 141.32, 5.12, 111.20]\n",
        "])"
      ],
      "metadata": {
        "id": "BmDEF6xPeIup"
      },
      "execution_count": 84,
      "outputs": []
    },
    {
      "cell_type": "code",
      "source": [
        "# # print(arr_wydatki)\n",
        "# print(arr_wydatki.shape)\n",
        "# (rows,cols) = arr_wydatki.shape\n",
        "# print(cols,rows)\n",
        "# for i, col in enumerate(arr_wydatki.reshape(cols,rows)):\n",
        "#   print(f\"miesiąc {i+1}: \", end='')\n",
        "#   for row in col:\n",
        "#     print(row, end=\"PLN \")\n",
        "#   print()\n",
        "# -============================ ZJEBANE"
      ],
      "metadata": {
        "colab": {
          "base_uri": "https://localhost:8080/"
        },
        "id": "UfCu1KBWfVV5",
        "outputId": "69033cf0-87f4-4c88-b9b5-0eb5a34e6c16"
      },
      "execution_count": 62,
      "outputs": [
        {
          "output_type": "stream",
          "name": "stdout",
          "text": [
            "(4, 12)\n",
            "12 4\n",
            "miesiąc 1: 190.55PLN 180.42PLN 123.31PLN 90.98PLN \n",
            "miesiąc 2: 150.21PLN 110.1PLN 230.12PLN 130.34PLN \n",
            "miesiąc 3: 153.27PLN 400.31PLN 200.35PLN 300.03PLN \n",
            "miesiąc 4: 32.12PLN 175.1PLN 240.32PLN 6.77PLN \n",
            "miesiąc 5: 400.12PLN 120.13PLN 245.23PLN 140.13PLN \n",
            "miesiąc 6: 182.98PLN 194.32PLN 567.12PLN 131.2PLN \n",
            "miesiąc 7: 322.12PLN 15.1PLN 20.32PLN 16.77PLN \n",
            "miesiąc 8: 40.12PLN 10.13PLN 45.23PLN 40.13PLN \n",
            "miesiąc 9: 82.98PLN 14.32PLN 57.12PLN 11.2PLN \n",
            "miesiąc 10: 2.12PLN 5.1PLN 2.32PLN 156.77PLN \n",
            "miesiąc 11: 410.12PLN 132.13PLN 13.23PLN 14.13PLN \n",
            "miesiąc 12: 18.98PLN 141.32PLN 5.12PLN 111.2PLN \n"
          ]
        }
      ]
    },
    {
      "cell_type": "code",
      "source": [
        "# for i, col in enumerate(arr_wydatki.reshape(cols,rows)):\n",
        "  # print(f\"Średnie wydatki w m-cu {i+1} = \" + str(col.mean()) + \"PLN\")\n",
        "# ================================================ ZJEBANEEE"
      ],
      "metadata": {
        "colab": {
          "base_uri": "https://localhost:8080/"
        },
        "id": "lex2P3kPiPV0",
        "outputId": "f9d6a836-da10-4c71-a2fe-74870abd6328"
      },
      "execution_count": 80,
      "outputs": [
        {
          "output_type": "stream",
          "name": "stdout",
          "text": [
            "Średnie wydatki w m-cu 1 = 146.315PLN\n",
            "Średnie wydatki w m-cu 2 = 155.1925PLN\n",
            "Średnie wydatki w m-cu 3 = 263.49PLN\n",
            "Średnie wydatki w m-cu 4 = 113.57749999999999PLN\n",
            "Średnie wydatki w m-cu 5 = 226.4025PLN\n",
            "Średnie wydatki w m-cu 6 = 268.905PLN\n",
            "Średnie wydatki w m-cu 7 = 93.5775PLN\n",
            "Średnie wydatki w m-cu 8 = 33.902499999999996PLN\n",
            "Średnie wydatki w m-cu 9 = 41.405PLN\n",
            "Średnie wydatki w m-cu 10 = 41.5775PLN\n",
            "Średnie wydatki w m-cu 11 = 142.4025PLN\n",
            "Średnie wydatki w m-cu 12 = 69.155PLN\n"
          ]
        }
      ]
    },
    {
      "cell_type": "code",
      "source": [
        "print(\"Roczne wydatki = \" + str(arr_wydatki.sum()) + \"PLN\")"
      ],
      "metadata": {
        "colab": {
          "base_uri": "https://localhost:8080/"
        },
        "id": "WDCczUygi37x",
        "outputId": "697d3ac3-3c8f-421e-ef79-8dadab548f02"
      },
      "execution_count": 82,
      "outputs": [
        {
          "output_type": "stream",
          "name": "stdout",
          "text": [
            "Roczne wydatki = 6383.61PLN\n"
          ]
        }
      ]
    },
    {
      "cell_type": "code",
      "source": [
        "print(\"Wydatki na lipiec i sierpień: \\n\" + str(arr_wydatki[:,6:8]))"
      ],
      "metadata": {
        "colab": {
          "base_uri": "https://localhost:8080/"
        },
        "id": "uDDuyys1jNMB",
        "outputId": "3eafebc4-8d32-4068-c753-a6679654e9a2"
      },
      "execution_count": 85,
      "outputs": [
        {
          "output_type": "stream",
          "name": "stdout",
          "text": [
            "Wydatki na lipiec i sierpień: \n",
            "[[230.12 130.34]\n",
            " [245.23 140.13]\n",
            " [ 45.23  40.13]\n",
            " [ 13.23  14.13]]\n"
          ]
        }
      ]
    },
    {
      "cell_type": "code",
      "source": [
        "print(arr_wydatki.transpose())"
      ],
      "metadata": {
        "colab": {
          "base_uri": "https://localhost:8080/"
        },
        "id": "srB0_GpKk6qj",
        "outputId": "c6997861-d120-4285-baa6-ab95cdef32c4"
      },
      "execution_count": 86,
      "outputs": [
        {
          "output_type": "stream",
          "name": "stdout",
          "text": [
            "[[190.55  32.12 322.12   2.12]\n",
            " [180.42 175.1   15.1    5.1 ]\n",
            " [123.31 240.32  20.32   2.32]\n",
            " [ 90.98   6.77  16.77 156.77]\n",
            " [150.21 400.12  40.12 410.12]\n",
            " [110.1  120.13  10.13 132.13]\n",
            " [230.12 245.23  45.23  13.23]\n",
            " [130.34 140.13  40.13  14.13]\n",
            " [153.27 182.98  82.98  18.98]\n",
            " [400.31 194.32  14.32 141.32]\n",
            " [200.35 567.12  57.12   5.12]\n",
            " [300.03 131.2   11.2  111.2 ]]\n"
          ]
        }
      ]
    },
    {
      "cell_type": "code",
      "source": [
        "# print(arr_wydatki)\n",
        "arr_wydatki.transpose()\n",
        "# print(arr_wydatki)\n",
        "arr_wydatki_T = arr_wydatki.transpose()\n",
        "print(arr_wydatki_T)\n",
        "print()\n",
        "for i, col in enumerate(arr_wydatki_T):\n",
        "  print(f\"miesiąc {i+1}: \", end='')\n",
        "  for row in col:\n",
        "    print(row, end=\"PLN \")\n",
        "  print()"
      ],
      "metadata": {
        "colab": {
          "base_uri": "https://localhost:8080/"
        },
        "id": "a_fR0xhdlIZH",
        "outputId": "210bd1c6-5bf3-454b-b265-ffd636e66067"
      },
      "execution_count": 90,
      "outputs": [
        {
          "output_type": "stream",
          "name": "stdout",
          "text": [
            "[[190.55  32.12 322.12   2.12]\n",
            " [180.42 175.1   15.1    5.1 ]\n",
            " [123.31 240.32  20.32   2.32]\n",
            " [ 90.98   6.77  16.77 156.77]\n",
            " [150.21 400.12  40.12 410.12]\n",
            " [110.1  120.13  10.13 132.13]\n",
            " [230.12 245.23  45.23  13.23]\n",
            " [130.34 140.13  40.13  14.13]\n",
            " [153.27 182.98  82.98  18.98]\n",
            " [400.31 194.32  14.32 141.32]\n",
            " [200.35 567.12  57.12   5.12]\n",
            " [300.03 131.2   11.2  111.2 ]]\n",
            "\n",
            "miesiąc 1: 190.55PLN 32.12PLN 322.12PLN 2.12PLN \n",
            "miesiąc 2: 180.42PLN 175.1PLN 15.1PLN 5.1PLN \n",
            "miesiąc 3: 123.31PLN 240.32PLN 20.32PLN 2.32PLN \n",
            "miesiąc 4: 90.98PLN 6.77PLN 16.77PLN 156.77PLN \n",
            "miesiąc 5: 150.21PLN 400.12PLN 40.12PLN 410.12PLN \n",
            "miesiąc 6: 110.1PLN 120.13PLN 10.13PLN 132.13PLN \n",
            "miesiąc 7: 230.12PLN 245.23PLN 45.23PLN 13.23PLN \n",
            "miesiąc 8: 130.34PLN 140.13PLN 40.13PLN 14.13PLN \n",
            "miesiąc 9: 153.27PLN 182.98PLN 82.98PLN 18.98PLN \n",
            "miesiąc 10: 400.31PLN 194.32PLN 14.32PLN 141.32PLN \n",
            "miesiąc 11: 200.35PLN 567.12PLN 57.12PLN 5.12PLN \n",
            "miesiąc 12: 300.03PLN 131.2PLN 11.2PLN 111.2PLN \n"
          ]
        }
      ]
    },
    {
      "cell_type": "code",
      "source": [
        "wydatki_miesieczne = [row.sum() for row in arr_wydatki_T]\n",
        "print(wydatki_miesieczne)\n",
        "mask = np.array(wydatki_miesieczne)\n",
        "print(mask>1000.0)\n",
        "mask_res = mask>1000.0\n",
        "i = 0\n",
        "for v in mask_res:\n",
        "  if v:\n",
        "    i = i + 1\n",
        "print(\"Ile wydatków > 1000PLN: \", i)\n",
        "\n",
        "print(mask>500.0)\n",
        "mask_res = mask>500.0\n",
        "i = 0\n",
        "for v in mask_res:\n",
        "  if v:\n",
        "    i = i + 1\n",
        "print(\"Ile wydatków > 500PLN: \", i)"
      ],
      "metadata": {
        "colab": {
          "base_uri": "https://localhost:8080/"
        },
        "id": "g6MA6E2NmqzY",
        "outputId": "aca73caf-a33c-476c-e3b6-fcfb1efad246"
      },
      "execution_count": 97,
      "outputs": [
        {
          "output_type": "stream",
          "name": "stdout",
          "text": [
            "[546.91, 375.72, 386.27, 271.29, 1000.57, 372.49, 533.8100000000001, 324.73, 438.21000000000004, 750.27, 829.71, 553.63]\n",
            "[False False False False  True False False False False False False False]\n",
            "Ile wydatków > 1000PLN:  1\n",
            "[ True False False False  True False  True False False  True  True  True]\n",
            "Ile wydatków > 500PLN:  6\n"
          ]
        }
      ]
    },
    {
      "cell_type": "code",
      "source": [
        "print(\"Średnia roczna wydatków: \" + str(arr_wydatki.mean()) + \"PLN\")\n",
        "sr_roczna = arr_wydatki.mean()\n",
        "mask_ponizej_sr_rocznej = arr_wydatki_T<sr_roczna\n",
        "print(mask_ponizej_sr_rocznej)"
      ],
      "metadata": {
        "colab": {
          "base_uri": "https://localhost:8080/"
        },
        "id": "E6XrxmKYoQQg",
        "outputId": "206bcd6a-c1ce-4df2-8cc6-4dc6f5b4c7b7"
      },
      "execution_count": 101,
      "outputs": [
        {
          "output_type": "stream",
          "name": "stdout",
          "text": [
            "Średnia roczna wydatków: 132.991875PLN\n",
            "[[False  True False  True]\n",
            " [False False  True  True]\n",
            " [ True False  True  True]\n",
            " [ True  True  True False]\n",
            " [False False  True False]\n",
            " [ True  True  True  True]\n",
            " [False False  True  True]\n",
            " [ True False  True  True]\n",
            " [False False  True  True]\n",
            " [False False  True False]\n",
            " [False False  True  True]\n",
            " [False  True  True  True]]\n"
          ]
        }
      ]
    },
    {
      "cell_type": "markdown",
      "source": [
        "this was so fucking cool. I am feeling opposite of burnt out now. very good. big excite. excite excite excite!!!!!!!!!!!!!!!!!!!!!!!!!!!!!!!11\n",
        "(mabe it;ll help me pass this class lol)"
      ],
      "metadata": {
        "id": "qxzinniho77g"
      }
    }
  ]
}