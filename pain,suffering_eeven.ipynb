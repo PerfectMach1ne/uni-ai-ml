{
  "nbformat": 4,
  "nbformat_minor": 0,
  "metadata": {
    "colab": {
      "provenance": [],
      "authorship_tag": "ABX9TyNtVD4nUz8AQbrQOCORqu3W",
      "include_colab_link": true
    },
    "kernelspec": {
      "name": "python3",
      "display_name": "Python 3"
    },
    "language_info": {
      "name": "python"
    }
  },
  "cells": [
    {
      "cell_type": "markdown",
      "metadata": {
        "id": "view-in-github",
        "colab_type": "text"
      },
      "source": [
        "<a href=\"https://colab.research.google.com/github/PerfectMach1ne/uni-ai-ml/blob/main/pain%2Csuffering_eeven.ipynb\" target=\"_parent\"><img src=\"https://colab.research.google.com/assets/colab-badge.svg\" alt=\"Open In Colab\"/></a>"
      ]
    },
    {
      "cell_type": "markdown",
      "source": [
        "# 23/10/2023\n",
        "## SSI P #2\n",
        "### i study stuff"
      ],
      "metadata": {
        "id": "WVvn7MJBu7XV"
      }
    },
    {
      "cell_type": "markdown",
      "source": [
        "### - Comprehensions\n",
        "create data structures in a conditional one-liner"
      ],
      "metadata": {
        "id": "FmzKA-3uv4Ze"
      }
    },
    {
      "cell_type": "code",
      "source": [
        "names=[\"alice\",\"I\",\"want\",\"to\",\"escape\",\"this\",\"degenerated\",\"place\",\"alice\"]\n",
        "names_new = [name.title() for name in names]\n",
        "print(names_new)"
      ],
      "metadata": {
        "colab": {
          "base_uri": "https://localhost:8080/"
        },
        "id": "6UenyCOQv3xm",
        "outputId": "93bc6333-0412-4bc3-e23b-61d6a86c68be"
      },
      "execution_count": null,
      "outputs": [
        {
          "output_type": "stream",
          "name": "stdout",
          "text": [
            "['Alice', 'I', 'Want', 'To', 'Escape', 'This', 'Degenerated', 'Place', 'Alice']\n"
          ]
        }
      ]
    },
    {
      "cell_type": "code",
      "execution_count": null,
      "metadata": {
        "colab": {
          "base_uri": "https://localhost:8080/"
        },
        "id": "6M2B5AWfRUJV",
        "outputId": "feffb94b-e64d-47f2-e68b-48161fb8195e"
      },
      "outputs": [
        {
          "output_type": "stream",
          "name": "stdout",
          "text": [
            "Liczby nieparzyste:  [3, 5]\n"
          ]
        }
      ],
      "source": [
        "numbers=[2,6,2,8,3,14,5,8]\n",
        "odds=[el for el in numbers if el%2!=0] # so you can also use these ifs, yeah\n",
        "print(\"Liczby nieparzyste: \",odds)"
      ]
    },
    {
      "cell_type": "markdown",
      "source": [
        "# 25/10/23 - attempt #3!\n"
      ],
      "metadata": {
        "id": "D3c4-_4sb3s1"
      }
    },
    {
      "cell_type": "code",
      "source": [
        "surnames=[\"Nowak\",\"Kowalska\",\"Abacki\",\"Jablko\",\"Pawlowska\"]\n",
        "ski_ska=[surname for surname in surnames if surname.__contains__(\"ska\")]\n",
        "print(ski_ska)"
      ],
      "metadata": {
        "colab": {
          "base_uri": "https://localhost:8080/"
        },
        "id": "_HiIR1YI2e3b",
        "outputId": "4c8e35e5-7369-41e8-d511-ef99f530e4dd"
      },
      "execution_count": 2,
      "outputs": [
        {
          "output_type": "stream",
          "name": "stdout",
          "text": [
            "['Kowalska', 'Pawlowska']\n"
          ]
        }
      ]
    },
    {
      "cell_type": "code",
      "source": [
        "capitals=[\"Warszawa\",\"Berlin\",\"Paryz\"]\n",
        "countries=[\"Polska\",\"Niemcy\",\"Francja\"]\n",
        "# omg we makin a dictionary from scratch (from lists))\n",
        "dict_countries_with_capitals= {country:capital for country, capital in zip(capitals,countries)}\n",
        "print(\"Słownik: \", dict_countries_with_capitals)"
      ],
      "metadata": {
        "colab": {
          "base_uri": "https://localhost:8080/"
        },
        "id": "1oFeRSfZ3YZD",
        "outputId": "e4a0156d-8e2e-412a-b551-1056b591267c"
      },
      "execution_count": 3,
      "outputs": [
        {
          "output_type": "stream",
          "name": "stdout",
          "text": [
            "Słownik:  {'Warszawa': 'Polska', 'Berlin': 'Niemcy', 'Paryz': 'Francja'}\n"
          ]
        }
      ]
    },
    {
      "cell_type": "code",
      "source": [
        "text = \"maszyn lirning\"\n",
        "single_letters=[char for char in text]\n",
        "print(\"Lista literek :3 \", single_letters)"
      ],
      "metadata": {
        "colab": {
          "base_uri": "https://localhost:8080/"
        },
        "id": "jNZo0jjV3uOr",
        "outputId": "edd54996-76c5-41f2-a47f-0bfdd220ce1f"
      },
      "execution_count": 4,
      "outputs": [
        {
          "output_type": "stream",
          "name": "stdout",
          "text": [
            "Lista literek :3  ['m', 'a', 's', 'z', 'y', 'n', ' ', 'l', 'i', 'r', 'n', 'i', 'n', 'g']\n"
          ]
        }
      ]
    },
    {
      "cell_type": "code",
      "source": [
        "set_of_leters={char for char in text}\n",
        "print(\"zbior unikatowych literek: \", set_of_leters)"
      ],
      "metadata": {
        "colab": {
          "base_uri": "https://localhost:8080/"
        },
        "id": "yWBO-HYX38z-",
        "outputId": "5d891856-d802-4dec-8395-6425d31f791b"
      },
      "execution_count": 6,
      "outputs": [
        {
          "output_type": "stream",
          "name": "stdout",
          "text": [
            "zbior unikatowych literek:  {'l', 'a', 'r', 'g', 'm', 'i', 'y', ' ', 's', 'z', 'n'}\n"
          ]
        }
      ]
    }
  ]
}