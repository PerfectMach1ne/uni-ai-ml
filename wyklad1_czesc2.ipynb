{
  "nbformat": 4,
  "nbformat_minor": 0,
  "metadata": {
    "colab": {
      "provenance": [],
      "include_colab_link": true
    },
    "kernelspec": {
      "name": "python3",
      "display_name": "Python 3"
    },
    "language_info": {
      "name": "python"
    }
  },
  "cells": [
    {
      "cell_type": "markdown",
      "metadata": {
        "id": "view-in-github",
        "colab_type": "text"
      },
      "source": [
        "<a href=\"https://colab.research.google.com/github/PerfectMach1ne/uni-ai-ml/blob/main/wyklad1_czesc2.ipynb\" target=\"_parent\"><img src=\"https://colab.research.google.com/assets/colab-badge.svg\" alt=\"Open In Colab\"/></a>"
      ]
    },
    {
      "cell_type": "markdown",
      "source": [
        "**Podstawy języka Python cz. 2:**\n",
        "*   funkcje\n",
        "*   napisy\n",
        "*   comprehensions\n",
        "*   biblioteka numpy\n",
        "*   programowanie obiektowe: klasy i obiekty"
      ],
      "metadata": {
        "id": "OdTuDDErdNxw"
      }
    },
    {
      "cell_type": "markdown",
      "source": [
        "**Funkcje**\n",
        "\n",
        "*   są to fragmenty programu, które wykonują określone zadania\n",
        "*   mogą być wywoływane wielokrotnie i dzięki temu unika się kopiowania tego samego kodu\n",
        "*   tworzą kod bardziej przejrzysty\n",
        "*   mogą przyjmować parametry\n",
        "*   mogą zwracać różne wartości\n",
        "\n",
        "```\n",
        "def function_name(arguments):\n",
        "  body of function\n",
        "```"
      ],
      "metadata": {
        "id": "AbRL5qITwEnN"
      }
    },
    {
      "cell_type": "code",
      "source": [
        "def hello():\n",
        "  print(\"Witaj na wykladzie!\")\n",
        "\n",
        "\n",
        "hello()"
      ],
      "metadata": {
        "colab": {
          "base_uri": "https://localhost:8080/"
        },
        "id": "7LM8j4-H1nlg",
        "outputId": "337bcdfc-49ed-43d7-a51f-eff3ff42cae7"
      },
      "execution_count": null,
      "outputs": [
        {
          "output_type": "stream",
          "name": "stdout",
          "text": [
            "Witaj na wykladzie!\n"
          ]
        }
      ]
    },
    {
      "cell_type": "code",
      "source": [
        "for i in range(10):\n",
        "  hello()"
      ],
      "metadata": {
        "colab": {
          "base_uri": "https://localhost:8080/"
        },
        "id": "XdNwRa6U2Nyh",
        "outputId": "1e7ff22c-4e06-4ffa-a844-ba07d387a914"
      },
      "execution_count": null,
      "outputs": [
        {
          "output_type": "stream",
          "name": "stdout",
          "text": [
            "Witaj na wykladzie!\n",
            "Witaj na wykladzie!\n",
            "Witaj na wykladzie!\n",
            "Witaj na wykladzie!\n",
            "Witaj na wykladzie!\n",
            "Witaj na wykladzie!\n",
            "Witaj na wykladzie!\n",
            "Witaj na wykladzie!\n",
            "Witaj na wykladzie!\n",
            "Witaj na wykladzie!\n"
          ]
        }
      ]
    },
    {
      "cell_type": "code",
      "source": [
        "def hello_args(name):\n",
        "  print(f\"Witaj {name} na dzisiejszym wykladzie!\")\n",
        "\n",
        "name=\"Monika\"\n",
        "hello_args(name)"
      ],
      "metadata": {
        "colab": {
          "base_uri": "https://localhost:8080/"
        },
        "id": "kjFjqQNN2SP6",
        "outputId": "2acdb033-dd5b-4640-8665-cc53dba5e0da"
      },
      "execution_count": null,
      "outputs": [
        {
          "output_type": "stream",
          "name": "stdout",
          "text": [
            "Witaj Monika na dzisiejszym wykladzie!\n"
          ]
        }
      ]
    },
    {
      "cell_type": "code",
      "source": [
        "for i in range(2):\n",
        "  name=input(\"Podaj imie: \")\n",
        "  hello_args(name)"
      ],
      "metadata": {
        "colab": {
          "base_uri": "https://localhost:8080/"
        },
        "id": "GNqfvih02szz",
        "outputId": "71feedce-0870-402d-ee54-e47c8af15693"
      },
      "execution_count": null,
      "outputs": [
        {
          "output_type": "stream",
          "name": "stdout",
          "text": [
            "Podaj imie: Ola\n",
            "Witaj Ola na dzisiejszym wykladzie!\n",
            "Podaj imie: Piotrek\n",
            "Witaj Piotrek na dzisiejszym wykladzie!\n"
          ]
        }
      ]
    },
    {
      "cell_type": "code",
      "source": [
        "def calculate_age(current, birth_year):\n",
        "  return current - birth_year+1\n",
        "\n",
        "names=[\"Ola\",\"Piotrek\", \"Kamil\"]\n",
        "years=[2000, 2002, 2005]\n",
        "current=2023\n",
        "for name,year in zip(names,years):\n",
        "  hello_args(name)\n",
        "  print(f\"Masz {calculate_age(current, year)} lat\")"
      ],
      "metadata": {
        "colab": {
          "base_uri": "https://localhost:8080/"
        },
        "id": "_NrXbOrw23YI",
        "outputId": "a6ae0700-b8e3-4d45-ee2c-f584c9fd5414"
      },
      "execution_count": null,
      "outputs": [
        {
          "output_type": "stream",
          "name": "stdout",
          "text": [
            "Witaj Ola na dzisiejszym wykladzie!\n",
            "Masz 24 lat\n",
            "Witaj Piotrek na dzisiejszym wykladzie!\n",
            "Masz 22 lat\n",
            "Witaj Kamil na dzisiejszym wykladzie!\n",
            "Masz 19 lat\n"
          ]
        }
      ]
    },
    {
      "cell_type": "code",
      "source": [
        "def calculate_age_default(birth_year: int, current: int=2023):\n",
        "  \"\"\"opis funkcji\n",
        "  \"\"\"\n",
        "  return current - birth_year+1"
      ],
      "metadata": {
        "id": "82WZtX_q6ByF"
      },
      "execution_count": null,
      "outputs": []
    },
    {
      "cell_type": "code",
      "source": [
        "for name,year in zip(names,years):\n",
        "  hello_args(name)\n",
        "  print(f\"Masz {calculate_age_default(year)} lat\")"
      ],
      "metadata": {
        "colab": {
          "base_uri": "https://localhost:8080/"
        },
        "id": "qAEkGJd956Gd",
        "outputId": "a02b77ba-744d-478a-afda-b28dcfb51044"
      },
      "execution_count": null,
      "outputs": [
        {
          "output_type": "stream",
          "name": "stdout",
          "text": [
            "Witaj Ola na dzisiejszym wykladzie!\n",
            "Masz 24 lat\n",
            "Witaj Piotrek na dzisiejszym wykladzie!\n",
            "Masz 22 lat\n",
            "Witaj Kamil na dzisiejszym wykladzie!\n",
            "Masz 19 lat\n"
          ]
        }
      ]
    },
    {
      "cell_type": "code",
      "source": [
        "def find_min_max(numbers: list):\n",
        "  min_v=min(numbers)\n",
        "  max_v=max(numbers)\n",
        "  return min_v, max_v\n",
        "\n",
        "numbers=[1,6,3,8,2,3]\n",
        "min_n,max_n=find_min_max(numbers)\n",
        "\n",
        "print(\"Wartosc maksymlana: \", max_n)\n",
        "print(\"Wartosc minimalna: \", min_n)\n"
      ],
      "metadata": {
        "colab": {
          "base_uri": "https://localhost:8080/"
        },
        "id": "kTZHrFto8iyt",
        "outputId": "53bbe544-5220-4a7f-83ba-1500b3a43975"
      },
      "execution_count": null,
      "outputs": [
        {
          "output_type": "stream",
          "name": "stdout",
          "text": [
            "Wartosc maksymlana:  8\n",
            "Wartosc minimalna:  1\n"
          ]
        }
      ]
    },
    {
      "cell_type": "code",
      "source": [
        "def add_favourite_subject(subjects, subject):\n",
        "  subjects.append(subject)\n",
        "  return subjects\n",
        "\n",
        "\n",
        "subjects=[\"matematyka\", \"ekonomia\"]\n",
        "print(\"Lista subjects przed wywolaniem funkcji: \", subjects)\n",
        "\n",
        "subjects_after_fun=add_favourite_subject(subjects, \"programowanie\")\n",
        "print(\"Lista subjects_after_fun po wywolaniu funkcji: \", subjects_after_fun)\n",
        "print(\"Lista subjects po wywolaniu funkcji: \", subjects)\n"
      ],
      "metadata": {
        "colab": {
          "base_uri": "https://localhost:8080/"
        },
        "id": "7xFa-9Ry9dvh",
        "outputId": "c1d23bdf-d466-4cce-e52e-83a63c12fb6f"
      },
      "execution_count": null,
      "outputs": [
        {
          "output_type": "stream",
          "name": "stdout",
          "text": [
            "Lista subjects przed wywolaniem funkcji:  ['matematyka', 'ekonomia']\n",
            "Lista subjects_after_fun po wywolaniu funkcji:  ['matematyka', 'ekonomia', 'programowanie']\n",
            "Lista subjects po wywolaniu funkcji:  ['matematyka', 'ekonomia', 'programowanie']\n"
          ]
        }
      ]
    },
    {
      "cell_type": "code",
      "source": [
        "def add_favourite_subject(subjects, subject):\n",
        "  subjects_new=subjects.copy()\n",
        "  subjects_new.append(subject)\n",
        "  return subjects_new\n",
        "\n",
        "subjects=[\"matematyka\", \"ekonomia\"]\n",
        "print(\"Lista subjects przed wywolaniem funkcji: \", subjects)\n",
        "\n",
        "subjects_after_fun=add_favourite_subject(subjects, \"programowanie\")\n",
        "print(\"Lista subjects_after_fun po wywolaniu funkcji: \", subjects_after_fun)\n",
        "print(\"Lista subjects po wywolaniu funkcji: \", subjects)"
      ],
      "metadata": {
        "colab": {
          "base_uri": "https://localhost:8080/"
        },
        "id": "fYc50jTwBTUu",
        "outputId": "92f2e881-fdb8-4ee2-8d10-442d69e58876"
      },
      "execution_count": null,
      "outputs": [
        {
          "output_type": "stream",
          "name": "stdout",
          "text": [
            "Lista subjects przed wywolaniem funkcji:  ['matematyka', 'ekonomia']\n",
            "Lista subjects_after_fun po wywolaniu funkcji:  ['matematyka', 'ekonomia', 'programowanie']\n",
            "Lista subjects po wywolaniu funkcji:  ['matematyka', 'ekonomia']\n"
          ]
        }
      ]
    },
    {
      "cell_type": "markdown",
      "source": [
        "**Zadania**\n",
        "\n",
        "1.   Napisz funkcję, która będzie przeliczała jedną walutę na drugą. Funkcja powinna umożliwić przeliczenie złotówek, euro i dolarów pomiędzy sobą (aktualne kursy walut można wziąć np. z Google).\n",
        "2.   Dla zadania z poprzednich warsztatów dotyczącego słownika polsko-angielskiego zdefiniuj funkcje.\n",
        "3.   Napisz funkcję, która policzy ile litrów benzyny zostanie spalone i ile będzie kosztowała podróż. Do funkcji przekazana ma być liczba kilometrów do przejechania, średnie spalanie na 100 km oraz koszt jednego litra benzyny - domyślnie 6,72 zł.\n",
        "\n"
      ],
      "metadata": {
        "id": "VVtr1MYUBjbR"
      }
    },
    {
      "cell_type": "markdown",
      "source": [
        "**Łańcuchy znaków**\n",
        "\n",
        "*   ciąg znaków, umieszczony w cudzysłowach (\", ', \"\"\")\n",
        "*   do napisu można odwoływać się za pomocą nawiasów []\n",
        "*   indeksacja elementów zaczyna się od 0"
      ],
      "metadata": {
        "id": "OQIqkwUuG9Fl"
      }
    },
    {
      "cell_type": "code",
      "source": [
        "example_str=\"Programowanie w języku Python\"\n",
        "example_str='Programowanie w języku Python'\n",
        "example_str=\"\"\"Programowanie w języku Python\n",
        "               jest proste\n",
        "               i przyjemne\"\"\"\n",
        "print(example_str)\n"
      ],
      "metadata": {
        "colab": {
          "base_uri": "https://localhost:8080/"
        },
        "id": "3GUHFc8hNgnX",
        "outputId": "6f0a6c86-06ac-4719-dba3-08ccc1f2f6fd"
      },
      "execution_count": null,
      "outputs": [
        {
          "output_type": "stream",
          "name": "stdout",
          "text": [
            "Programowanie w języku Python\n",
            "               jest proste\n",
            "               i przyjemne\n"
          ]
        }
      ]
    },
    {
      "cell_type": "code",
      "source": [
        "example_str=\"Tytul filmu to \\\"Kubus Puchatek i przyjaciele\\\"\"\n",
        "print(example_str)"
      ],
      "metadata": {
        "colab": {
          "base_uri": "https://localhost:8080/"
        },
        "id": "nNE_GtPaOc9d",
        "outputId": "643df334-961e-44cc-a87f-4902adc89134"
      },
      "execution_count": null,
      "outputs": [
        {
          "output_type": "stream",
          "name": "stdout",
          "text": [
            "Tytul filmu to \"Kubus Puchatek i przyjaciele \"\n"
          ]
        }
      ]
    },
    {
      "cell_type": "code",
      "source": [
        "name=\"Piotr\"\n",
        "surname=\"Nowak\"\n",
        "intro=name+\" \"+surname\n",
        "print(intro)"
      ],
      "metadata": {
        "colab": {
          "base_uri": "https://localhost:8080/"
        },
        "id": "_eOH7SZBOzp2",
        "outputId": "4419aa0e-2710-4645-c308-4f523039c37d"
      },
      "execution_count": null,
      "outputs": [
        {
          "output_type": "stream",
          "name": "stdout",
          "text": [
            "Piotr Nowak\n"
          ]
        }
      ]
    },
    {
      "cell_type": "code",
      "source": [
        "print(\"Pierwsza litera imienia to: \", name[0])\n",
        "print(\"Trzy pierwsze litery nazwiska to: \", surname[0:3])\n"
      ],
      "metadata": {
        "colab": {
          "base_uri": "https://localhost:8080/"
        },
        "id": "MM_vB0lcPYPm",
        "outputId": "6418ce81-5759-48e8-e168-bbb1905c84a8"
      },
      "execution_count": null,
      "outputs": [
        {
          "output_type": "stream",
          "name": "stdout",
          "text": [
            "Pierwsza litera imienia to:  P\n",
            "Trzy pierwsze litery nazwiska to:  Now\n"
          ]
        }
      ]
    },
    {
      "cell_type": "code",
      "source": [
        "name[0]='T'\n",
        "print(\"Pierwsza litera imienia po zmianie to: \", name[0])"
      ],
      "metadata": {
        "id": "eOYev69QPxXY"
      },
      "execution_count": null,
      "outputs": []
    },
    {
      "cell_type": "code",
      "source": [
        "len_intro=len(intro)\n",
        "print(\"Dlugosc napisu: \",len_intro)\n",
        "\n",
        "lower_intro=intro.lower()\n",
        "print(\"Po funkcji lower: \",lower_intro)\n"
      ],
      "metadata": {
        "colab": {
          "base_uri": "https://localhost:8080/"
        },
        "id": "aKevopXbPQ3h",
        "outputId": "944cd608-ce97-442d-ccbe-a2639c50e9b2"
      },
      "execution_count": null,
      "outputs": [
        {
          "output_type": "stream",
          "name": "stdout",
          "text": [
            "Dlugosc napisu:  11\n",
            "Po funkcji lower:  piotr nowak\n"
          ]
        }
      ]
    },
    {
      "cell_type": "code",
      "source": [
        "form_name=\"      Monika \"\n",
        "print(\"Przed usunieciem bialych znakow: \", form_name)\n",
        "print(\"Po usunieciu: \", form_name.strip())"
      ],
      "metadata": {
        "colab": {
          "base_uri": "https://localhost:8080/"
        },
        "id": "ZoPkAquIQpC8",
        "outputId": "a56dda95-c043-41a5-c763-ed098c74e28a"
      },
      "execution_count": null,
      "outputs": [
        {
          "output_type": "stream",
          "name": "stdout",
          "text": [
            "Przed usunieciem bialych znakow:        Monika \n",
            "Po usunieciu:  Monika\n"
          ]
        }
      ]
    },
    {
      "cell_type": "code",
      "source": [
        "text=\"Ala ma kota i psa. Kot Ali jest czarny a pies rudy.\"\n",
        "print(\"Czy text zaczyna sie od wyrazenia Ala? \", text.startswith(\"Ala\"))\n",
        "print(f\"Slowo kot wystepuje {text.lower().count('kot')}\")\n",
        "print(f\"Pierwsze wystapienie slowa kot zczyna sie od indeksu {text.lower().find('kot')}\")\n",
        "text=text.replace(\"Ala\",\"Ola\")\n",
        "print(\"Text po zamianie: \", text)"
      ],
      "metadata": {
        "colab": {
          "base_uri": "https://localhost:8080/"
        },
        "id": "YxT1Yiz3R4Y8",
        "outputId": "54b78135-2f99-447a-d1ca-a2eda750436a"
      },
      "execution_count": null,
      "outputs": [
        {
          "output_type": "stream",
          "name": "stdout",
          "text": [
            "Czy text zaczyna sie od wyrazenia Ala?  True\n",
            "Slowo kot wystepuje 2\n",
            "Pierwsze wystapienie slowa kot zczyna sie od indeksu 7\n",
            "Text po zamianie:  Ola ma kota i psa. Kot Ali jest czarny a pies rudy.\n"
          ]
        }
      ]
    },
    {
      "cell_type": "markdown",
      "source": [
        "**Zadania**\n",
        "\n",
        "1.   Napisz funkcję, która dostaje łańcuch znaków i zwraca go w postaci zaszyfrowanej używając szyfru Cezara. https://pl.wikipedia.org/wiki/Szyfr_Cezara. Użytkownik może podać przesunięcie, ale ma zostać ustawiona jego domyślna wartość równa 3.\n",
        "\n",
        "2.   Napisz funkcję, która dostaje zaszyfrowany ciąg znaków za pomocą szyfru Cezara oraz użyte przesunięcie. Funkcja zwraca odszyfrowany fragment tekstu.\n"
      ],
      "metadata": {
        "id": "01ZqINP7VSRk"
      }
    },
    {
      "cell_type": "markdown",
      "source": [
        "**Comprehensions**\n",
        "\n",
        "*   umożliwiają stworzenie listy, słownika, zbioru, tupli np. spełniających określone warunki\n",
        "*   skracają długość kodu\n",
        "*   mogą spowodować zmniejszenie czytelności kodu. Jeśi fragment kodu jest bardzo skomplikowany lepiej użyć pętli zamiast jednolinijkowego kodu.\n",
        "*   cała struktura na której wykonywane są operacja ładowana jest do pamięci, więc warto używac comprehensions z małymi i średnimi listami. Dla duży list lepiej używać pętli."
      ],
      "metadata": {
        "id": "h0kfZG9PXUXv"
      }
    },
    {
      "cell_type": "code",
      "source": [
        "names=[\"ola\",\"ala\",\"piotr\",\"marcin\"]\n",
        "names_new=[name.title() for name in names]\n",
        "print(\"Imiona zaczynajace sie z duzej litery: \", names_new)"
      ],
      "metadata": {
        "colab": {
          "base_uri": "https://localhost:8080/"
        },
        "id": "kqYm4bvscp1Z",
        "outputId": "c44092d0-6f0d-4534-c1b1-4cd7c47b992f"
      },
      "execution_count": null,
      "outputs": [
        {
          "output_type": "stream",
          "name": "stdout",
          "text": [
            "Imiona zaczynajace sie z duzej litery:  ['Ola', 'Ala', 'Piotr', 'Marcin']\n"
          ]
        }
      ]
    },
    {
      "cell_type": "code",
      "source": [
        "numbers=[2,6,2,8,3,14,5,8]\n",
        "odds=[el for el in numbers if el%2!=0]\n",
        "print(\"Liczby nieparzyste: \",odds)"
      ],
      "metadata": {
        "colab": {
          "base_uri": "https://localhost:8080/"
        },
        "id": "Ldy7Kr2LZeVI",
        "outputId": "ed2369c8-4a32-49ac-ce24-32cae6f11e4c"
      },
      "execution_count": null,
      "outputs": [
        {
          "output_type": "stream",
          "name": "stdout",
          "text": [
            "Liczby nieparzyste:  [3, 5]\n"
          ]
        }
      ]
    },
    {
      "cell_type": "code",
      "source": [
        "surnames=[\"Nowak\",\"Kowalska\",\"Abacki\",\"Jablko\",\"Pawlowska\"]\n",
        "ski_ska=[ surname for surname in surnames if surname.__contains__(\"ska\")]\n",
        "print(\"Nazwiska konczace sie na ska: \",ski_ska)"
      ],
      "metadata": {
        "colab": {
          "base_uri": "https://localhost:8080/"
        },
        "id": "OBgaKcLXbULF",
        "outputId": "013f61a5-264d-422e-8127-5deb8f80dff8"
      },
      "execution_count": null,
      "outputs": [
        {
          "output_type": "stream",
          "name": "stdout",
          "text": [
            "Nazwiska konczace sie na ska:  ['Kowalska', 'Pawlowska']\n"
          ]
        }
      ]
    },
    {
      "cell_type": "code",
      "source": [
        "capitals=[\"Warszawa\",\"Berlin\",\"Paryz\"]\n",
        "countries=[\"Polska\",\"Niemcy\",\"Francja\"]\n",
        "dict_countries_with_capitals= {country:capital for country, capital in zip(countries, capitals)}\n",
        "print(\"Slownik: \",dict_countries_with_capitals )"
      ],
      "metadata": {
        "colab": {
          "base_uri": "https://localhost:8080/"
        },
        "id": "-rLq5NcrcMUG",
        "outputId": "84256532-bdbf-4a26-cbf7-891c60181f10"
      },
      "execution_count": null,
      "outputs": [
        {
          "output_type": "stream",
          "name": "stdout",
          "text": [
            "Slownik:  {'Polska': 'Warszawa', 'Niemcy': 'Berlin', 'Francja': 'Paryz'}\n"
          ]
        }
      ]
    },
    {
      "cell_type": "code",
      "source": [
        "text=\"machine learning\"\n",
        "single_letters=[char for char in text]\n",
        "print(\"Lista zawierająca pojedyncze litery: \",single_letters)"
      ],
      "metadata": {
        "colab": {
          "base_uri": "https://localhost:8080/"
        },
        "id": "OifltVpTgJ36",
        "outputId": "6ebf9b26-1a8f-4992-b2e7-07a1fded36d4"
      },
      "execution_count": null,
      "outputs": [
        {
          "output_type": "stream",
          "name": "stdout",
          "text": [
            "['m', 'a', 'c', 'h', 'i', 'n', 'e', ' ', 'l', 'e', 'a', 'r', 'n', 'i', 'n', 'g']\n"
          ]
        }
      ]
    },
    {
      "cell_type": "code",
      "source": [
        "set_letters={char for char in text}\n",
        "print(\"Zbior unikatowych liter: \",set_letters)"
      ],
      "metadata": {
        "colab": {
          "base_uri": "https://localhost:8080/"
        },
        "id": "i2uJmtqOoE2A",
        "outputId": "a6261fe1-b52f-424f-c9dc-e9a6283f4c78"
      },
      "execution_count": null,
      "outputs": [
        {
          "output_type": "stream",
          "name": "stdout",
          "text": [
            "Zbior unikatowych liter:  {' ', 'e', 'c', 'r', 'l', 'g', 'i', 'm', 'a', 'n', 'h'}\n"
          ]
        }
      ]
    },
    {
      "cell_type": "markdown",
      "source": [
        "**Zadania**\n",
        "\n",
        "1.   Na podstawie słownika zawierającego miasto i jego odległość od Warszawy, stwórzy listę miast, z których do Warszawy jest mniej niż 150 km.\n",
        "2.   Z danego łańcucha znaków wybierz wszystkie cyfry, które się w nim znajdują.\n",
        "3.   Podziel listę zawierająca składniki na pizzę na dwie oddzielnej listy. Jedna lista ma zawierać sładniki mięsne. Zakładamy, że może to być: salami lub szynka. Druga lista ma zawierać składniki nie zawierające mięsa.\n",
        "4.   Stwórz słownik przechowujący oceny z informatyki dla każdego studenta. Kluczem jest numer indeksu studenta. Na podstawie stworzonego słownika,dla każdego studenta policz średnią arytmetyczną jego ocen.\n",
        "5.   Znajdź elementy unikatowe, które znajdują się w liście"
      ],
      "metadata": {
        "id": "ZXqY3jL_j0mm"
      }
    },
    {
      "cell_type": "markdown",
      "source": [
        "**Biblioteka numpy**\n",
        "\n",
        "*   jest to pakiet często używany, głównie do pracy z tablicami\n",
        "*   https://numpy.org/\n",
        "*   podstawowym elementem jest tablica: ndarray, czyli n-dimensional array (n-wymiarowa tablica).\n",
        "*   tablica przechowuje wartości jednego typu\n",
        "*   tablicę można stworzyć np. na podstawie listy czy krotki\n",
        "*   odwołanie się do pojedynczych elementów tablicy obywa się za pomocą []\n",
        "*   jeśli tablica jest dwu lub więcej wymiarowa, odowłanie w nawiasach kwadratowych odbywa się po przecinku\n",
        "*   elementy w tablicy numerowane są od 0 do n-1, n to wymiar tablicy\n",
        "*   można odwoływać się za pomocą liczb ujemnych do elementów: [-1] oznacza odwołanie się do ostatniego elementu\n",
        "*   tablice wspierają również zaawansowane indeksowanie: można wybrać cały wiersz lub całą kolumnę\n",
        "*   obiekty ndarray moją zdefiniowane metody do przeprowadzania szybkich operacji matematycznych: sum, mean, min, max, var, std."
      ],
      "metadata": {
        "id": "RlMfBHGNofMT"
      }
    },
    {
      "cell_type": "code",
      "source": [
        "import numpy as np"
      ],
      "metadata": {
        "id": "yoKjZB1Brsjd"
      },
      "execution_count": null,
      "outputs": []
    },
    {
      "cell_type": "markdown",
      "source": [
        "**Tablica jednowymiarowa**\n",
        "![image.png](data:image/png;base64,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)"
      ],
      "metadata": {
        "id": "YpUvT3t7c8rP"
      }
    },
    {
      "cell_type": "code",
      "source": [
        "arr_1 = np.array([1, 2, 3, 4]) #na podstawie listy\n",
        "print(\"Typ tablicy: \", type(arr_1))\n",
        "print(\"Tablica 1D: \",arr_1)\n",
        "\n",
        "arr_1 = np.array((1, 2, 3, 4)) #na podstawie tupli"
      ],
      "metadata": {
        "colab": {
          "base_uri": "https://localhost:8080/"
        },
        "id": "ymfBEZh1ruTk",
        "outputId": "03cef000-c019-42f1-e8ce-8c2a24983d92"
      },
      "execution_count": null,
      "outputs": [
        {
          "output_type": "stream",
          "name": "stdout",
          "text": [
            "Typ tablicy:  <class 'numpy.ndarray'>\n",
            "Tablica 1D:  [1 2 3 4]\n"
          ]
        }
      ]
    },
    {
      "cell_type": "code",
      "source": [
        "arr_2=np.zeros(5)\n",
        "arr_3=np.ones(5)\n",
        "arr_4=np.full(5,3)\n",
        "arr_5=np.arange(10)\n",
        "print(\"Tablica wypleniona 0: \", arr_2)\n",
        "print(\"Tablica wypleniona 1: \", arr_3)\n",
        "print(\"Tablica wypleniona 3: \", arr_4)\n",
        "print(\"Tablica wypleniona liczbami od 0 do 9: \", arr_5)"
      ],
      "metadata": {
        "colab": {
          "base_uri": "https://localhost:8080/"
        },
        "id": "085mH3cktFoq",
        "outputId": "20833ff6-8ed9-48a6-b7d4-165557198a03"
      },
      "execution_count": null,
      "outputs": [
        {
          "output_type": "stream",
          "name": "stdout",
          "text": [
            "Tablica wypleniona 0:  [0. 0. 0. 0. 0.]\n",
            "Tablica wypleniona 1:  [1. 1. 1. 1. 1.]\n",
            "Tablica wypleniona 3:  [3 3 3 3 3]\n",
            "Tablica wypleniona liczbami od 0 do 9:  [0 1 2 3 4 5 6 7 8 9]\n"
          ]
        }
      ]
    },
    {
      "cell_type": "code",
      "source": [
        "print(\"Cala tablica 1D: \", arr_1)\n",
        "print(\"Liczba elementow w tablicy: \", len(arr_1))\n",
        "print(\"Pierwszy element tablicy: \", arr_1[0])\n",
        "print(\"Ostatni element tablicy: \", arr_1[-1])\n",
        "print(\"Dwa pierwsze elementy w tablicy: \", arr_1[0:2])\n",
        "print(\"Dwa ostatnie elementy w tablicy: \", arr_1[-2:])\n",
        "print(\"Elementy znajdujące się pod parzystymi indeksami: \", arr_1[::2])\n",
        "arr_1[0]=100\n",
        "print(\"Cala tablica 1D po modyfikacji: \", arr_1)"
      ],
      "metadata": {
        "colab": {
          "base_uri": "https://localhost:8080/"
        },
        "id": "yjZanJEGtRbu",
        "outputId": "8c52cf40-43e1-4627-caa1-ebfef565219e"
      },
      "execution_count": null,
      "outputs": [
        {
          "output_type": "stream",
          "name": "stdout",
          "text": [
            "Cala tablica 1D:  [1 2 3 4]\n",
            "Liczba elementow w tablicy:  4\n",
            "Pierwszy element tablicy:  1\n",
            "Ostatni element tablicy:  4\n",
            "Dwa pierwsze elementy w tablicy:  [1 2]\n",
            "Dwa ostatnie elementy w tablicy:  [3 4]\n",
            "Elementy znajdujące się pod parzystymi indeksami:  [1 3]\n",
            "Cala tablica 1D po modyfikacji:  [100   2   3   4]\n"
          ]
        }
      ]
    },
    {
      "cell_type": "code",
      "source": [
        "arr_1 = np.array([1, 2, 3, 4])\n",
        "arr_2 = np.array([-1, -2, -3, -4])\n",
        "print(\"Tablica arr_1: \", arr_1)\n",
        "print(\"Tablica arr_2: \", arr_2)\n",
        "\n",
        "res=arr_1+arr_2\n",
        "print(\"arr_1 + arr_2: \", res)\n",
        "res=arr_1*arr_2\n",
        "print(\"arr_1 * arr_2: \", res)"
      ],
      "metadata": {
        "colab": {
          "base_uri": "https://localhost:8080/"
        },
        "id": "dNhFFzMNxmfT",
        "outputId": "2986f18d-4b26-4089-eb13-668c4ea37e9d"
      },
      "execution_count": null,
      "outputs": [
        {
          "output_type": "stream",
          "name": "stdout",
          "text": [
            "Tablica arr_1:  [1 2 3 4]\n",
            "Tablica arr_2:  [-1 -2 -3 -4]\n",
            "arr_1 + arr_2:  [0 0 0 0]\n",
            "arr_1 * arr_2:  [ -1  -4  -9 -16]\n"
          ]
        }
      ]
    },
    {
      "cell_type": "code",
      "source": [
        "print(\"średnia arr_1: \", arr_1.mean())\n",
        "print(\"Max arr_1: \", arr_1.max())"
      ],
      "metadata": {
        "colab": {
          "base_uri": "https://localhost:8080/"
        },
        "id": "rcSy_FnAyGJW",
        "outputId": "02664d66-b462-4d5d-f772-088af84149d9"
      },
      "execution_count": null,
      "outputs": [
        {
          "output_type": "stream",
          "name": "stdout",
          "text": [
            "średnia arr_1:  2.5\n",
            "Max arr_1:  4\n"
          ]
        }
      ]
    },
    {
      "cell_type": "code",
      "source": [
        "mask=arr_1>1\n",
        "print(\"Tablica 1D: \", arr_1)\n",
        "print(\"Czy element wiekszy od 1? \", mask)\n",
        "print(\"Liczba elementow wieksza od 1: \", mask.sum())\n",
        "print(\"Elementy ktora sa wieksze od 1: \", arr_1[mask])"
      ],
      "metadata": {
        "colab": {
          "base_uri": "https://localhost:8080/"
        },
        "id": "fhcR9yA0yUwb",
        "outputId": "7ef0f927-bddc-46b6-9360-5b43a1a3c0cd"
      },
      "execution_count": null,
      "outputs": [
        {
          "output_type": "stream",
          "name": "stdout",
          "text": [
            "Tablica 1D:  [1 2 3 4]\n",
            "Czy element wiekszy od 1?  [False  True  True  True]\n",
            "Liczba elementow wieksza od 1:  3\n",
            "Elementy ktora sa wieksze od 1:  [2 3 4]\n"
          ]
        }
      ]
    },
    {
      "cell_type": "code",
      "source": [
        "for i,el in enumerate(arr_1):\n",
        "  print(f\"{i} element w tablicy: {el}\")"
      ],
      "metadata": {
        "colab": {
          "base_uri": "https://localhost:8080/"
        },
        "id": "Vo_OJNcZffWW",
        "outputId": "24a0db81-16b6-4ff6-871e-428187d9542b"
      },
      "execution_count": null,
      "outputs": [
        {
          "output_type": "stream",
          "name": "stdout",
          "text": [
            "0 element w tablicy: 1\n",
            "1 element w tablicy: 2\n",
            "2 element w tablicy: 3\n",
            "3 element w tablicy: 4\n"
          ]
        }
      ]
    },
    {
      "cell_type": "markdown",
      "source": [
        "**Tablica dwuwymiarowa**\n",
        "![image.png](data:image/png;base64,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)"
      ],
      "metadata": {
        "id": "XtuShT_HzPw-"
      }
    },
    {
      "cell_type": "code",
      "source": [
        "arr_5=np.array([[2,3,5,1], [5,1,2,8], [5,1,6,-1]])\n",
        "print(\"Tablica 2D: \", arr_5)"
      ],
      "metadata": {
        "colab": {
          "base_uri": "https://localhost:8080/"
        },
        "id": "Zu9HGU2ethRV",
        "outputId": "8dd88313-9799-4d89-e49e-909bfa656339"
      },
      "execution_count": null,
      "outputs": [
        {
          "output_type": "stream",
          "name": "stdout",
          "text": [
            "Tablica 2D:  [[ 2  3  5  1]\n",
            " [ 5  1  2  8]\n",
            " [ 5  1  6 -1]]\n"
          ]
        }
      ]
    },
    {
      "cell_type": "code",
      "source": [
        "print(\"Wymiary tablicy: \", arr_5.shape)\n",
        "print(\"Element o wspolrzednych 0,0: \", arr_5[0,0])\n",
        "print(\"Pierwsza kolumn: \", arr_5[:,0])\n",
        "print(\"Pierwszy wiersz: \", arr_5[0,:])\n",
        "print(\"Obszar tablicy: \", arr_5[0:2, 1:3])\n",
        "print(\"Parzyste kolumny: \", arr_5[:, ::2])\n",
        "print(\"Parzyste wiersze: \",arr_5[::2,:])"
      ],
      "metadata": {
        "colab": {
          "base_uri": "https://localhost:8080/"
        },
        "id": "Mut5N-R8ve6j",
        "outputId": "163405a2-375d-4e41-b303-c6b255fc6daf"
      },
      "execution_count": null,
      "outputs": [
        {
          "output_type": "stream",
          "name": "stdout",
          "text": [
            "Wymiary tablicy:  (3, 4)\n",
            "Element o wspolrzednych 0,0:  2\n",
            "Pierwsza kolumn:  [2 5 5]\n",
            "Pierwszy wiersz:  [2 3 5 1]\n",
            "Obszar tablicy:  [[3 5]\n",
            " [1 2]]\n",
            "Parzyste kolumny:  [[2 5]\n",
            " [5 2]\n",
            " [5 6]]\n",
            "Parzyste wiersze:  [[ 2  3  5  1]\n",
            " [ 5  1  6 -1]]\n"
          ]
        }
      ]
    },
    {
      "cell_type": "code",
      "source": [
        "s_cols=arr_5.sum(axis=0)\n",
        "s_rows=arr_5.sum(axis=1)\n",
        "print(f\"Suma elementow w poszczegolnych kolumnach jest rowna {s_cols}, a w wierasz {s_rows}\")"
      ],
      "metadata": {
        "colab": {
          "base_uri": "https://localhost:8080/"
        },
        "id": "Y-zneBiwZ94y",
        "outputId": "9f5d8a8d-873a-4c56-e269-8d1a2134a704"
      },
      "execution_count": null,
      "outputs": [
        {
          "output_type": "stream",
          "name": "stdout",
          "text": [
            "Suma elementow w poszczegolnych kolumnach jest rowna [12  5 13  8], a w wierasz [11 16 11]\n"
          ]
        }
      ]
    },
    {
      "cell_type": "code",
      "source": [
        "mask=arr_5>4\n",
        "print(\"Maska: \",mask)\n",
        "print(\"Elementy >4: \", arr_5[mask])"
      ],
      "metadata": {
        "colab": {
          "base_uri": "https://localhost:8080/"
        },
        "id": "AS9rojircq-0",
        "outputId": "cce36ec5-c144-4ed4-fcd4-db241a5f4006"
      },
      "execution_count": null,
      "outputs": [
        {
          "output_type": "stream",
          "name": "stdout",
          "text": [
            "Maska:  [[False False  True False]\n",
            " [ True False False  True]\n",
            " [ True False  True False]]\n",
            "Elementy >4:  [5 5 8 5 6]\n"
          ]
        }
      ]
    },
    {
      "cell_type": "code",
      "source": [
        "index_cols=[1,-1]\n",
        "selected_cols=arr_5[:,index_cols]\n",
        "print(\"Druga i ostatnia kolumna: \", selected_cols)"
      ],
      "metadata": {
        "colab": {
          "base_uri": "https://localhost:8080/"
        },
        "id": "Z8gsGIqXeqje",
        "outputId": "fc902475-57a2-42ec-d5e4-01d01a3c9d3e"
      },
      "execution_count": null,
      "outputs": [
        {
          "output_type": "stream",
          "name": "stdout",
          "text": [
            "Druga i ostatnia kolumna:  [[ 3  1]\n",
            " [ 1  8]\n",
            " [ 1 -1]]\n"
          ]
        }
      ]
    },
    {
      "cell_type": "code",
      "source": [
        "print(\"Tablica z podzialem na wiersze\")\n",
        "for i,row in enumerate(arr_5):\n",
        "  print(f\"Wiersz {i}: {row}\")\n",
        "\n",
        "print(\"Tablica element po elemencie\")\n",
        "for row in arr_5:\n",
        "  for el in row:\n",
        "    print(el, end=\" \")\n",
        "  print()"
      ],
      "metadata": {
        "colab": {
          "base_uri": "https://localhost:8080/"
        },
        "id": "LqNuNQKEfbHf",
        "outputId": "94a3dd89-0df7-4b36-e092-19c6353f30c9"
      },
      "execution_count": null,
      "outputs": [
        {
          "output_type": "stream",
          "name": "stdout",
          "text": [
            "Tablica z podzialem na wiersze\n",
            "Wiersz 0: [2 3 5 1]\n",
            "Wiersz 1: [5 1 2 8]\n",
            "Wiersz 2: [ 5  1  6 -1]\n",
            "Tablica element po elemencie\n",
            "2 3 5 1 \n",
            "5 1 2 8 \n",
            "5 1 6 -1 \n"
          ]
        }
      ]
    },
    {
      "cell_type": "markdown",
      "source": [
        "**Zmiana wymiarów tablic**"
      ],
      "metadata": {
        "id": "-OAYNryGYh45"
      }
    },
    {
      "cell_type": "code",
      "source": [
        "arr_1=np.array([1,2,3,4])\n",
        "print(\"Tablica przed zmiana ksztaltu: \",arr_1)\n",
        "\n",
        "arr_2=arr_1.reshape(2,2)\n",
        "print(\"Tablica po zmianie: \",arr_2)\n",
        "\n",
        "arr_3=arr_2.reshape(4)\n",
        "print(\"Tablica po kolejnej zmianie: \",arr_3)"
      ],
      "metadata": {
        "colab": {
          "base_uri": "https://localhost:8080/"
        },
        "id": "4HKqUCjGYmny",
        "outputId": "c7982b07-dd54-4e43-cc8f-b2736dfd0220"
      },
      "execution_count": null,
      "outputs": [
        {
          "output_type": "stream",
          "name": "stdout",
          "text": [
            "Tablica przed zmiana ksztaltu:  [1 2 3 4]\n",
            "Tablica po zmianie:  [[1 2]\n",
            " [3 4]]\n",
            "Tablica po kolejnej zmianie:  [1 2 3 4]\n"
          ]
        }
      ]
    },
    {
      "cell_type": "markdown",
      "source": [
        "**Dodawanie/Usuwanie wymiarów**"
      ],
      "metadata": {
        "id": "d0cdzlrSZw83"
      }
    },
    {
      "cell_type": "code",
      "source": [
        "arr_1=np.array([1,2,3,4])\n",
        "print(\"Przed expand_dims: \",arr_1)\n",
        "arr_2=np.expand_dims(arr_1, axis=0)\n",
        "print(\"Po expand_dims, axis=0: \",arr_2)\n",
        "arr_3=np.expand_dims(arr_1, axis=1)\n",
        "print(\"Po expand_dims, axis=1: \",arr_3)\n",
        "\n",
        "print(\"Przed squeeze, axis=0: \",arr_2)\n",
        "arr_4=np.squeeze(arr_2, axis=0)\n",
        "print(\"Po squeeze, axis=0: \",arr_4)\n",
        "\n",
        "print(\"Przed squeeze, axis=1: \",arr_3)\n",
        "arr_5=np.squeeze(arr_3, axis=1)\n",
        "print(\"Po squeeze, axis=1: \",arr_5)"
      ],
      "metadata": {
        "colab": {
          "base_uri": "https://localhost:8080/"
        },
        "id": "WOKttPmiZ-KR",
        "outputId": "ce8b2877-ce6f-4fe3-f216-85cd236ba044"
      },
      "execution_count": null,
      "outputs": [
        {
          "output_type": "stream",
          "name": "stdout",
          "text": [
            "Przed expand_dims:  [1 2 3 4]\n",
            "Po expand_dims, axis=0:  [[1 2 3 4]]\n",
            "Po expand_dims, axis=1:  [[1]\n",
            " [2]\n",
            " [3]\n",
            " [4]]\n",
            "Przed squeeze, axis=0:  [[1 2 3 4]]\n",
            "Po squeeze, axis=0:  [1 2 3 4]\n",
            "Przed squeeze, axis=1:  [[1]\n",
            " [2]\n",
            " [3]\n",
            " [4]]\n",
            "Po squeeze, axis=1:  [1 2 3 4]\n"
          ]
        }
      ]
    },
    {
      "cell_type": "markdown",
      "source": [
        "**Zadania**\n",
        "\n",
        "Treść do zadań 1 - 4\n",
        "\n",
        "Tablica jendowymiarowa przechowuje liczbę kroków zrobionych każdego dnia. W każdej komórce znajduje się jedna liczba.\n",
        "1.   Oblicz jaka jest średnia kroków każdego dnia\n",
        "2.   Znajdź kroki, które są poniżej średniej\n",
        "3.   Sprawdź czy któregoś dnia zostało wykonanych więcej niż 30 tys kroków?\n",
        "4.   Wyświetl zawartość tablicy oddzielając każdą liczbę kroków spacją.\n",
        "\n",
        "Treść do zadań 5 - 10\n",
        "\n",
        "Tablica dwuwymiarowa przechowuje wydatki w kolejnych miesiącach. Kolumny z indeksacją od 0 do 11 odpowiadają kolejnym miesiącom, a w wierszach przechowywane są kolejne wydatki.\n",
        "\n",
        "5.   Wyświetl zawartość tablicy w następującym formacie:\n",
        "\n",
        "     *   miesiąc 1: *wydatki*\n",
        "     *   miesiąc 2: *wydatki*\n",
        "\n",
        "6.   Policz średnie wydatki w każdym miesiącu\n",
        "7.   Policz sumę wszystkich wydatków w ciągu roku\n",
        "8.   Wybierz wydatki z miesięcy wakacyjnych: lipiec i sierpień\n",
        "9.   Policz ile wydatków było większych niż 1000 zł\n",
        "10.  Policz w ilu miesiącach średnia suma wydatków była mniejsza niż średnia rocznaroczna\n"
      ],
      "metadata": {
        "id": "DkctrbFOhveG"
      }
    },
    {
      "cell_type": "markdown",
      "source": [
        "**Programowanie obiektowe: klasy i obiekty**\n",
        "\n",
        "\n",
        "*   Python jest językiem obiektowym, wszystko w Pythonie jest obiektem\n",
        "*   klasa to typ danych, który opisuje obiekt\n",
        "*   obiekt to egzemplarz danej klasy, zmienna typu obiektowego\n",
        "*   obiekt może przechowywać dane i wykonywać metody\n",
        "*   metody to funkcje znajdujące się w klasie\n",
        "\n",
        "Przykład:\n",
        "Jako przykład można podać klasę Samochod, która reprezentuje samochód osobowy. Każdy samochód osobowy posiada np. numer VIN, liczbę drzwi, rodzaj silnika, pojemność bagażnika. Są to cechy opisujące każdy samochód. Dla każdego samochodu osobowego można wyliczyć średnie spalanie, oszacować kiedy powinien być wykonany kolejny przegląd, wymienić opony. Zadaniem samochodu jest przejechanie z punktu A do B.  \n",
        "Przykładem obiektu klasy Samochod, może być Twój samochód. Jest to konkretny egzemplarz klasy Samochód.\n",
        "\n",
        "![image.png](data:image/png;base64,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)\n",
        "\n",
        "```\n",
        "class Class_name:\n",
        "  def __init__(self, other arguments):\n",
        "    *body method*\n",
        "  def method1(self, other arguments):\n",
        "    *body method*\n",
        "```"
      ],
      "metadata": {
        "id": "dBLcD-ptpe0_"
      }
    },
    {
      "cell_type": "code",
      "source": [
        "class Person:\n",
        "  def __init__(self, name, surname, age):\n",
        "    self.name=name\n",
        "    self.surname=surname\n",
        "    self.age=age\n",
        "  def info(self):\n",
        "    print(f\"Czesc! Mam na imie: {self.name} {self.surname} i mam {self.age} lat\")\n",
        "  def is_18(self):\n",
        "    return self.age>=18\n",
        "  def is_older_than(self, value):\n",
        "    return self.age>value\n",
        "  def set_age(self, new_age):\n",
        "    self.age=new_age\n",
        "  def get_age(self):\n",
        "    return self.age\n"
      ],
      "metadata": {
        "id": "VWFqXCgnoTLX"
      },
      "execution_count": null,
      "outputs": []
    },
    {
      "cell_type": "code",
      "source": [
        "p1=Person(\"Ala\",\"Kowalska\",16)\n",
        "p1.info()\n",
        "print(\"Czy jestem pelnoletnia? \", p1.is_18())\n",
        "print(\"czy jestem starsza niz 10? \", p1.is_older_than(20))\n",
        "p1.set_age(20)\n",
        "p1.info()\n",
        "name=p1.name\n",
        "print(name)"
      ],
      "metadata": {
        "colab": {
          "base_uri": "https://localhost:8080/"
        },
        "id": "RhMlzeXo51Ou",
        "outputId": "9c998315-53ac-4217-d410-9731a70fe989"
      },
      "execution_count": null,
      "outputs": [
        {
          "output_type": "stream",
          "name": "stdout",
          "text": [
            "Czesc! Mam na imie: Ala Kowalska i mam 16 lat\n",
            "Czy jestem pelnoletnia?  False\n",
            "czy jestem starsza niz 10?  False\n",
            "Czesc! Mam na imie: Ala Kowalska i mam 20 lat\n",
            "Ala\n"
          ]
        }
      ]
    },
    {
      "cell_type": "code",
      "source": [
        "class Person2:\n",
        "  def __init__(self, name, surname, age):\n",
        "    self.__name=name\n",
        "    self.__surname=surname\n",
        "    self.__age=age\n",
        "  def info(self):\n",
        "    print(f\"Czesc! Mam na imie: {self.__name} {self.__surname} i mam {self.__age} lat\")\n",
        "  def is_18(self):\n",
        "    return self.__age>=18\n",
        "  def is_older_than(self, value):\n",
        "    return self.__age>value\n",
        "  def set_age(self, new_age):\n",
        "    self.__age=new_age\n",
        "  def get_age(self):\n",
        "    return self.__age"
      ],
      "metadata": {
        "id": "0GrGTDD76qvm"
      },
      "execution_count": null,
      "outputs": []
    },
    {
      "cell_type": "code",
      "source": [
        "p1=Person2(\"Ala\",\"Kowalska\",16)\n",
        "name=p1.__name"
      ],
      "metadata": {
        "id": "p4fHXS-H62-r",
        "colab": {
          "base_uri": "https://localhost:8080/",
          "height": 193
        },
        "outputId": "c0dc5c3f-905f-4acc-a6e8-848a24af4b66"
      },
      "execution_count": null,
      "outputs": [
        {
          "output_type": "error",
          "ename": "AttributeError",
          "evalue": "ignored",
          "traceback": [
            "\u001b[0;31m---------------------------------------------------------------------------\u001b[0m",
            "\u001b[0;31mAttributeError\u001b[0m                            Traceback (most recent call last)",
            "\u001b[0;32m<ipython-input-3-adf5908c02ae>\u001b[0m in \u001b[0;36m<cell line: 2>\u001b[0;34m()\u001b[0m\n\u001b[1;32m      1\u001b[0m \u001b[0mp1\u001b[0m\u001b[0;34m=\u001b[0m\u001b[0mPerson2\u001b[0m\u001b[0;34m(\u001b[0m\u001b[0;34m\"Ala\"\u001b[0m\u001b[0;34m,\u001b[0m\u001b[0;34m\"Kowalska\"\u001b[0m\u001b[0;34m,\u001b[0m\u001b[0;36m16\u001b[0m\u001b[0;34m)\u001b[0m\u001b[0;34m\u001b[0m\u001b[0;34m\u001b[0m\u001b[0m\n\u001b[0;32m----> 2\u001b[0;31m \u001b[0mname\u001b[0m\u001b[0;34m=\u001b[0m\u001b[0mp1\u001b[0m\u001b[0;34m.\u001b[0m\u001b[0m__name\u001b[0m\u001b[0;34m\u001b[0m\u001b[0;34m\u001b[0m\u001b[0m\n\u001b[0m",
            "\u001b[0;31mAttributeError\u001b[0m: 'Person2' object has no attribute '__name'"
          ]
        }
      ]
    },
    {
      "cell_type": "code",
      "source": [
        "name=p1._Person2__name\n",
        "print(name)\n",
        "p1.get_age()"
      ],
      "metadata": {
        "colab": {
          "base_uri": "https://localhost:8080/"
        },
        "id": "WwwPT8926-jy",
        "outputId": "613b8354-0b33-4141-c77e-4eaf0a799574"
      },
      "execution_count": null,
      "outputs": [
        {
          "output_type": "stream",
          "name": "stdout",
          "text": [
            "Ala\n"
          ]
        },
        {
          "output_type": "execute_result",
          "data": {
            "text/plain": [
              "16"
            ]
          },
          "metadata": {},
          "execution_count": 4
        }
      ]
    },
    {
      "cell_type": "markdown",
      "source": [
        "**Dziedziczenie**:\n",
        "\n",
        "*   rozszerzenie funkcjonalności na podstawie już istniejącej klasy\n",
        "*   klasa która już istnieje nazywa jest klasą nadrzędną i na jej podstawie tworzona jest klasa potomna, dziedzicząca\n",
        "*   do klas potomnych można dopisywać kolejne atrybuty, metody\n",
        "*   atrybuty i metody klas nadrzędnych można również nadpisywać przez klasy potomne\n"
      ],
      "metadata": {
        "id": "iyaF7tpuXxJG"
      }
    },
    {
      "cell_type": "code",
      "source": [
        "class Student(Person):\n",
        "  def __init__(self, name, surname, age, index_number):\n",
        "    super().__init__(name, surname, age)\n",
        "    self.index_number=index_number\n",
        "  def info(self):\n",
        "    super().info()\n",
        "    print(\"Moj numer indeksu to: \", self.index_number)\n",
        "  def getting_sholarship(self):\n",
        "    self.sholarship=True\n",
        "  def not_getting_sholarship(self):\n",
        "    self.sholarship=False\n",
        "  def is_getting_sholarship(self):\n",
        "    return self.sholarship"
      ],
      "metadata": {
        "id": "DhL6dV3m_ewS"
      },
      "execution_count": null,
      "outputs": []
    },
    {
      "cell_type": "code",
      "source": [
        "s1=Student(\"Ola\",\"Kowalska\",21,\"123456\")\n",
        "s1.info()\n",
        "s1.getting_sholarship()\n",
        "print(\"Czy biore stypenidum? \", s1.is_getting_sholarship())\n",
        "print(\"Czy jestem pelnoletnia? \", s1.is_18())\n"
      ],
      "metadata": {
        "colab": {
          "base_uri": "https://localhost:8080/"
        },
        "id": "p47VvV5GA-RK",
        "outputId": "2dbe0005-ebc5-473a-8410-4feeb121d182"
      },
      "execution_count": null,
      "outputs": [
        {
          "output_type": "stream",
          "name": "stdout",
          "text": [
            "Czesc! Mam na imie: Ola Kowalska i mam 21 lat\n",
            "Moj numer indeksu to:  123456\n",
            "Czy biore stypenidum?  True\n",
            "Czy jestem pelnoletnia?  True\n"
          ]
        }
      ]
    },
    {
      "cell_type": "markdown",
      "source": [
        "**Zadania**\n",
        "1. Stwórz klasę Employee, charakteryzującą pracownika firmy. Klasa posiada takie atrybuty jak: imię, nazwisko, staż pracy wyrażony w latach i wynagrodzenie podstawowe.\n",
        "W klasie zaimplementuj następujące metody:\n",
        "\n",
        "*   metodę wyświetlająca informację o pracowniku\n",
        "*   metodę zwracającą wynagrodzenie\n",
        "*   metodę obliczającą premię roczną pracownika: wynagrodzenie podstawowe+500*staż pracy\n",
        "\n",
        "2.  Stwórz klasę Programmer, która dziedziczy po klasie Employee. Klasa posiada dodatkowo atrybut współczynnik programisty.\n",
        "W klasie zaimplementuj następujące metody:\n",
        "\n",
        "*   metodę wyświetlająca informację o programiście\n",
        "*   metodę obliczającą półroczną premię: wynagrodzenie podstawowe*wspołczynnik programisty\n",
        "\n",
        "\n"
      ],
      "metadata": {
        "id": "3qc0nTUzBoG2"
      }
    }
  ]
}