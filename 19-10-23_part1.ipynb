{
  "nbformat": 4,
  "nbformat_minor": 0,
  "metadata": {
    "colab": {
      "provenance": [],
      "authorship_tag": "ABX9TyMzfonNlfThM1jB8oH8pXE9",
      "include_colab_link": true
    },
    "kernelspec": {
      "name": "python3",
      "display_name": "Python 3"
    },
    "language_info": {
      "name": "python"
    }
  },
  "cells": [
    {
      "cell_type": "markdown",
      "metadata": {
        "id": "view-in-github",
        "colab_type": "text"
      },
      "source": [
        "<a href=\"https://colab.research.google.com/github/PerfectMach1ne/uni-ai-ml/blob/main/19-10-23_part1.ipynb\" target=\"_parent\"><img src=\"https://colab.research.google.com/assets/colab-badge.svg\" alt=\"Open In Colab\"/></a>"
      ]
    },
    {
      "cell_type": "markdown",
      "source": [
        "# 19.10.2023 @ home\n",
        "### suffering, but still trying"
      ],
      "metadata": {
        "id": "1gbzVSu4eW8m"
      }
    },
    {
      "cell_type": "markdown",
      "source": [
        "set exercise thingiesss:"
      ],
      "metadata": {
        "id": "axM3kkonecqU"
      }
    },
    {
      "cell_type": "code",
      "execution_count": 10,
      "metadata": {
        "colab": {
          "base_uri": "https://localhost:8080/"
        },
        "id": "kB3lnYwTdhbS",
        "outputId": "9987ed0b-a5a7-4285-b86a-b94c2108c17b"
      },
      "outputs": [
        {
          "output_type": "stream",
          "name": "stdout",
          "text": [
            "{1, 2, 3, 4, 5, 6, 7}\n"
          ]
        }
      ],
      "source": [
        "setz = {1,2,3,4,5,6,7}\n",
        "print(setz)"
      ]
    },
    {
      "cell_type": "code",
      "source": [
        "setz.add(9)\n",
        "print(setz)\n",
        "setz.remove(7)\n",
        "print(setz)"
      ],
      "metadata": {
        "colab": {
          "base_uri": "https://localhost:8080/"
        },
        "id": "l3jZ6dOFewaY",
        "outputId": "f42c4f98-cda9-4df7-b71b-bdd5afa98da6"
      },
      "execution_count": 11,
      "outputs": [
        {
          "output_type": "stream",
          "name": "stdout",
          "text": [
            "{1, 2, 3, 4, 5, 6, 7, 9}\n",
            "{1, 2, 3, 4, 5, 6, 9}\n"
          ]
        }
      ]
    },
    {
      "cell_type": "code",
      "source": [
        "A={1,5,7,8}\n",
        "B={1,4,7}\n",
        "print(f\"A ⋃ B = {A|B}\")\n",
        "print(f\"A ⋂ B = {A&B}\")\n",
        "print(f\"A / B = {A-B}\")\n",
        "print(B-A)"
      ],
      "metadata": {
        "colab": {
          "base_uri": "https://localhost:8080/"
        },
        "id": "mr0eJ942e-u2",
        "outputId": "9506d989-2399-449c-e2b1-ef8218be7360"
      },
      "execution_count": 4,
      "outputs": [
        {
          "output_type": "stream",
          "name": "stdout",
          "text": [
            "A ⋃ B = {1, 4, 5, 7, 8}\n",
            "A ⋂ B = {1, 7}\n",
            "A / B = {8, 5}\n",
            "{4}\n"
          ]
        }
      ]
    },
    {
      "cell_type": "code",
      "source": [
        "listt = [5,6,6,7,3,5,1,1,3,-7,9,9,1,0,2,0,2,1,10,10,17,17,-5,7]\n",
        "sett = {0}\n",
        "sett.remove(0)\n",
        "for el in listt:\n",
        "  sett.add(el)\n",
        "print(listt)\n",
        "print(sett)"
      ],
      "metadata": {
        "colab": {
          "base_uri": "https://localhost:8080/"
        },
        "id": "2w5m-itjfcZX",
        "outputId": "038fe926-dd93-4919-82d7-67f0e828b46b"
      },
      "execution_count": 2,
      "outputs": [
        {
          "output_type": "stream",
          "name": "stdout",
          "text": [
            "[5, 6, 6, 7, 3, 5, 1, 1, 3, -7, 9, 9, 1, 0, 2, 0, 2, 1, 10, 10, 17, 17, -5, 7]\n",
            "{0, 1, 2, 3, 5, 6, 7, 9, 10, 17, -7, -5}\n"
          ]
        }
      ]
    },
    {
      "cell_type": "code",
      "source": [
        "print(6 in sett)\n",
        "print(21 in sett)\n",
        "print(6 not in sett)"
      ],
      "metadata": {
        "colab": {
          "base_uri": "https://localhost:8080/"
        },
        "id": "sxyWNbTJhLi1",
        "outputId": "dab25cbc-5acb-40f5-b220-51998559512f"
      },
      "execution_count": 5,
      "outputs": [
        {
          "output_type": "stream",
          "name": "stdout",
          "text": [
            "True\n",
            "False\n",
            "False\n"
          ]
        }
      ]
    },
    {
      "cell_type": "code",
      "source": [
        "# sillycheckset = set()\n",
        "print(listt)\n",
        "for l in listt:\n",
        "  if l in sett: # and l not in sillycheckset:\n",
        "    sett.remove(l) # destructive method but :333\n",
        "  else:\n",
        "    print(f\"Element {l} się powtarza!\")"
      ],
      "metadata": {
        "colab": {
          "base_uri": "https://localhost:8080/"
        },
        "id": "f-uRe2DKgN_u",
        "outputId": "e93d504d-0a7c-4398-da0b-5e5b3db08320"
      },
      "execution_count": 10,
      "outputs": [
        {
          "output_type": "stream",
          "name": "stdout",
          "text": [
            "[5, 6, 6, 7, 3, 5, 1, 1, 3, -7, 9, 9, 1, 0, 2, 0, 2, 1, 10, 10, 17, 17, -5, 7]\n",
            "Element 6 się powtarza!\n",
            "Element 5 się powtarza!\n",
            "Element 1 się powtarza!\n",
            "Element 3 się powtarza!\n",
            "Element 9 się powtarza!\n",
            "Element 1 się powtarza!\n",
            "Element 0 się powtarza!\n",
            "Element 2 się powtarza!\n",
            "Element 1 się powtarza!\n",
            "Element 10 się powtarza!\n",
            "Element 17 się powtarza!\n",
            "Element 7 się powtarza!\n"
          ]
        }
      ]
    },
    {
      "cell_type": "markdown",
      "source": [
        "\n",
        "\n",
        "---\n",
        "\n",
        "\n",
        "## Wyklład 1 part 2 zone\n",
        "#### Funkcje"
      ],
      "metadata": {
        "id": "-w6VJKNiiyIN"
      }
    },
    {
      "cell_type": "code",
      "source": [
        "def printi(argument):\n",
        "  print(f\"aaa {argument}\")\n",
        "\n",
        "for troll in (\"a\", \"b\", \"c\"):\n",
        "  print(troll)"
      ],
      "metadata": {
        "colab": {
          "base_uri": "https://localhost:8080/"
        },
        "id": "5QpP41KVi4L9",
        "outputId": "53bb73b6-91c1-49f9-d8b3-801b7248734a"
      },
      "execution_count": 13,
      "outputs": [
        {
          "output_type": "stream",
          "name": "stdout",
          "text": [
            "a\n",
            "b\n",
            "c\n"
          ]
        }
      ]
    },
    {
      "cell_type": "markdown",
      "source": [
        "Topics I read about: returns, the idea of using a `zip(thing, anotherone)` in a `for` loop!\n",
        "```python\n",
        "for name,year in zip(names,years):\n",
        "  hello_args(name)\n",
        "  print(f\"Masz {calculate_age(current, year)} lat\")\n",
        "```\n",
        ", function descriptions in \"\"\", forcing specific types like `def func(thisalist: list)`, copying list and danger of modifying a list by referencing it in a function (`threatened_list = [1,2]` then `new_list = add_element(threatened_list,3)` turns BOTH of them into `[1,2,3]`!!! unless `add_element()` utilizes `copy()`!)"
      ],
      "metadata": {
        "id": "55FF_zaTkNo-"
      }
    },
    {
      "cell_type": "markdown",
      "source": [
        "zamdamknka\n",
        "- (1) Napisz funkcję, która będzie przeliczała jedną walutę na drugą. Funkcja powinna umożliwić przeliczenie złotówek, euro i dolarów pomiędzy sobą (aktualne kursy walut można wziąć np. z Google).\n",
        "- (2) Dla zadania z poprzednich warsztatów dotyczącego słownika polsko-angielskiego zdefiniuj funkcje.\n",
        "- (3) Napisz funkcję, która policzy ile litrów benzyny zostanie spalone i ile będzie kosztowała podróż. Do funkcji przekazana ma być liczba kilometrów do przejechania, średnie spalanie na 100 km oraz koszt jednego litra benzyny - domyślnie 6,72 zł."
      ],
      "metadata": {
        "id": "mXlWUPChld_u"
      }
    },
    {
      "cell_type": "code",
      "source": [
        "def przelicz(val: float, waluta_from: str, waluta_to: str):\n",
        "  pass\n",
        "  # honestly this is too much work for what its worth, so am moving on to another. i can totally see a solution with ifs there, though.\n",
        "  # remember, we must work efficiently, not \"completionistically\""
      ],
      "metadata": {
        "id": "dzoynJ9flnRl"
      },
      "execution_count": null,
      "outputs": []
    },
    {
      "cell_type": "code",
      "source": [
        "def przelicz(s: float, delta_V: float, p_V: float = 6.72):\n",
        "  V_total = (s * delta_V) / 100.0\n",
        "  p_total = p_V * V_total\n",
        "  print(f\"Spalonoe zostanie {V_total} litrów benzyny za {p_total} PLN.\")\n",
        "\n",
        "kilometry = float(input(\"Podaj ilość kilometrów do przejechania: \"))\n",
        "srednie_spalanie = float(input(\"Ile litrów benzyny auto śednio spala na 100km?: \"))\n",
        "is_def = input(\"Czy koszt 1l benzyny kosztuje 6.72 PLN? (y/n): \")\n",
        "if is_def == 'y':\n",
        "  przelicz(kilometry, srednie_spalanie)\n",
        "else:\n",
        "  koszt = float(input(\"Podaj koszt 1l benzyny: \"))\n",
        "  przelicz(kilometry, srednie_spalanie, koszt)"
      ],
      "metadata": {
        "colab": {
          "base_uri": "https://localhost:8080/"
        },
        "id": "wGsClNHDmNgV",
        "outputId": "d0d15b57-6fc5-4b66-a432-8d378e30019a"
      },
      "execution_count": 16,
      "outputs": [
        {
          "output_type": "stream",
          "name": "stdout",
          "text": [
            "Podaj ilość kilometrów do przejechania: 633.71\n",
            "Ile litrów benzyny auto śednio spala na 100km?: 21.2\n",
            "Czy koszt 1l benzyny kosztuje 6.72 PLN? (y/n): n\n",
            "Podaj koszt 1l benzyny: 7.81\n",
            "Spalonoe zostanie 134.34652 litrów benzyny za 1049.2463212 PLN.\n"
          ]
        }
      ]
    },
    {
      "cell_type": "markdown",
      "source": [
        "#### Łańcuchy znakkóww\n",
        "`strip()` for removing white spaces"
      ],
      "metadata": {
        "id": "mExjcO97syWf"
      }
    }
  ]
}