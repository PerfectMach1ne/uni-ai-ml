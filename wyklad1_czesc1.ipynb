{
  "nbformat": 4,
  "nbformat_minor": 0,
  "metadata": {
    "colab": {
      "provenance": [],
      "include_colab_link": true
    },
    "kernelspec": {
      "name": "python3",
      "display_name": "Python 3"
    },
    "language_info": {
      "name": "python"
    }
  },
  "cells": [
    {
      "cell_type": "markdown",
      "metadata": {
        "id": "view-in-github",
        "colab_type": "text"
      },
      "source": [
        "<a href=\"https://colab.research.google.com/github/PerfectMach1ne/uni-ai-ml/blob/main/wyklad1_czesc1.ipynb\" target=\"_parent\"><img src=\"https://colab.research.google.com/assets/colab-badge.svg\" alt=\"Open In Colab\"/></a>"
      ]
    },
    {
      "cell_type": "markdown",
      "source": [
        "**Podstawy języka Python część 1:**\n",
        "\n",
        "*   wyświetlanie na konsoli\n",
        "*   zmienne i podstawowe operatory\n",
        "*   wczytywanie danych\n",
        "*   konstrukcje warunkowe\n",
        "*   pętle\n",
        "*   kolekcje: listy, krotki, słowniki, zbiory"
      ],
      "metadata": {
        "id": "fsuHq1lzIFec"
      }
    },
    {
      "cell_type": "markdown",
      "source": [
        "**Wyświetlenie**"
      ],
      "metadata": {
        "id": "9tfDK1zMQKSW"
      }
    },
    {
      "cell_type": "code",
      "execution_count": null,
      "metadata": {
        "colab": {
          "base_uri": "https://localhost:8080/"
        },
        "id": "qheB2hw4Gpqu",
        "outputId": "fbb4a2af-7b18-4a3e-e9c4-9deb6987e535"
      },
      "outputs": [
        {
          "output_type": "stream",
          "name": "stdout",
          "text": [
            "Hello WSPA!\n"
          ]
        }
      ],
      "source": [
        "print(\"Hello WSPA!\")"
      ]
    },
    {
      "cell_type": "markdown",
      "source": [
        "**Zmienne**\n",
        "\n",
        "*   nazwy zmiennych moge składać się z liter, cyfr, podkreślników\n",
        "*   nazwy zmiennych nie mogą zaczynać się od cyfry lub podkreślnika\n",
        "*   duże i małe litery są rozróżniane, zmienne: Text oraz text to są dwie różne zmienne\n",
        "\n",
        "**Dobre praktyki**\n",
        "\n",
        "*   należy unikać nazw zmiennych, które są już zdefiniowane w Python (bo funkcjonalność zostanie nadpisana), np. if, for, break, str, int itd\n",
        "*   nazwy zmiennych powinny mówić co przechowują, np. zmienna przechowująca imię - name zamiast n\n",
        "*   jeśli nazwa składa się z kilku słów to mogą być oddzielone podkreślnikiem albo kolejne słowo może zaczyna się z duże litery\n",
        "*   do nazw zmiennych używaj jęzka angielskiego\n",
        "\n",
        "\n",
        "\n",
        "\n"
      ],
      "metadata": {
        "id": "3-TMFrXKQsxG"
      }
    },
    {
      "cell_type": "code",
      "source": [
        "text=\"Monika\" #łańcuch znaków\n",
        "a=2 #liczba całkowita\n",
        "b=2.0 #liczba zmiennoprzecinkowa\n",
        "flag=True #zmienna boolowa\n",
        "print(text)\n",
        "print(a)\n",
        "print(b)\n",
        "print(flag)"
      ],
      "metadata": {
        "colab": {
          "base_uri": "https://localhost:8080/"
        },
        "id": "Rf-dDJdTQwk9",
        "outputId": "ba3cd775-131a-4ac4-8a93-5c8b747b79b2"
      },
      "execution_count": null,
      "outputs": [
        {
          "output_type": "stream",
          "name": "stdout",
          "text": [
            "Monika\n",
            "2\n",
            "2.0\n",
            "True\n"
          ]
        }
      ]
    },
    {
      "cell_type": "code",
      "source": [
        "print(type(text))\n",
        "print(type(a))\n",
        "print(type(b))\n",
        "print(type(flag))"
      ],
      "metadata": {
        "colab": {
          "base_uri": "https://localhost:8080/"
        },
        "id": "efqbStrYWFBt",
        "outputId": "ccab43c5-f879-4355-b8f9-c005bf7a6db5"
      },
      "execution_count": null,
      "outputs": [
        {
          "output_type": "stream",
          "name": "stdout",
          "text": [
            "<class 'str'>\n",
            "<class 'int'>\n",
            "<class 'float'>\n",
            "<class 'bool'>\n"
          ]
        }
      ]
    },
    {
      "cell_type": "markdown",
      "source": [
        "**Operatory**"
      ],
      "metadata": {
        "id": "mxC2VqgiTJmq"
      }
    },
    {
      "cell_type": "code",
      "source": [
        "res=6+8\n",
        "res=a+6\n",
        "print(a)\n",
        "print(\"Dodawanie: \",res)"
      ],
      "metadata": {
        "colab": {
          "base_uri": "https://localhost:8080/"
        },
        "id": "3spDIg0mTM93",
        "outputId": "bf1e41e1-291c-4f21-fa65-2436e4b7970d"
      },
      "execution_count": null,
      "outputs": [
        {
          "output_type": "stream",
          "name": "stdout",
          "text": [
            "2\n",
            "Dodawanie:  8\n"
          ]
        }
      ]
    },
    {
      "cell_type": "code",
      "source": [
        "res=(a*2-5)/3\n",
        "print(\"Kolejnosc wykonywania działań: \",res)"
      ],
      "metadata": {
        "colab": {
          "base_uri": "https://localhost:8080/"
        },
        "id": "yPLiFYIgTt67",
        "outputId": "00f57fe1-3ce7-4f0e-9d6c-75ff44cb0021"
      },
      "execution_count": null,
      "outputs": [
        {
          "output_type": "stream",
          "name": "stdout",
          "text": [
            "Kolejnosc wykonywania działań:  -0.3333333333333333\n"
          ]
        }
      ]
    },
    {
      "cell_type": "code",
      "source": [
        "res1=8/3\n",
        "res2=8//3\n",
        "\n",
        "print(\"Dzielenie\")\n",
        "print(\"Zmienna res1: \", res1)\n",
        "print(\"Zmienna res2: \",res2)"
      ],
      "metadata": {
        "colab": {
          "base_uri": "https://localhost:8080/"
        },
        "id": "j2gSDNtvT25s",
        "outputId": "fdbb27d5-facc-4f15-88a1-e3737d794190"
      },
      "execution_count": null,
      "outputs": [
        {
          "output_type": "stream",
          "name": "stdout",
          "text": [
            "Dzielenie\n",
            "Zmienna res1:  2.6666666666666665\n",
            "Zmienna res2:  2\n"
          ]
        }
      ]
    },
    {
      "cell_type": "code",
      "source": [
        "res=2**3\n",
        "print(\"Potegowanie: \",res)"
      ],
      "metadata": {
        "colab": {
          "base_uri": "https://localhost:8080/"
        },
        "id": "IwhpC0CvUFWp",
        "outputId": "cdca332a-4f6b-4e74-b9cf-a3557735c080"
      },
      "execution_count": null,
      "outputs": [
        {
          "output_type": "stream",
          "name": "stdout",
          "text": [
            "Potegowanie:  8\n"
          ]
        }
      ]
    },
    {
      "cell_type": "code",
      "source": [
        "a=8\n",
        "b=3\n",
        "print(f\"Reszta z dzielenia {a} przez {b}: {a%b}\")"
      ],
      "metadata": {
        "colab": {
          "base_uri": "https://localhost:8080/"
        },
        "id": "aKmeDUoJUNcR",
        "outputId": "45d3a027-43d2-48b4-fdb8-cb2493c3ece7"
      },
      "execution_count": null,
      "outputs": [
        {
          "output_type": "stream",
          "name": "stdout",
          "text": [
            "Reszta z dzielenia 8 przez 3: 2\n"
          ]
        }
      ]
    },
    {
      "cell_type": "markdown",
      "source": [
        "**Konwersja danych**"
      ],
      "metadata": {
        "id": "f0xDkWmJW2QG"
      }
    },
    {
      "cell_type": "code",
      "source": [
        "#int do float\n",
        "a_int=4\n",
        "a_float=float(a_int)\n",
        "print(type(a_float))"
      ],
      "metadata": {
        "colab": {
          "base_uri": "https://localhost:8080/"
        },
        "id": "pEsF_B8GVQQJ",
        "outputId": "a01e8b3b-f95a-42bd-af6f-24df910b858c"
      },
      "execution_count": null,
      "outputs": [
        {
          "output_type": "stream",
          "name": "stdout",
          "text": [
            "<class 'float'>\n"
          ]
        }
      ]
    },
    {
      "cell_type": "code",
      "source": [
        "#float to int\n",
        "a_float=4.0\n",
        "a_int=int(a_float)\n",
        "print(type(a_int))"
      ],
      "metadata": {
        "colab": {
          "base_uri": "https://localhost:8080/"
        },
        "id": "HpEtsG0MXG4I",
        "outputId": "5ccb68ec-093c-4fa5-b0a6-d06a844ad96b"
      },
      "execution_count": null,
      "outputs": [
        {
          "output_type": "stream",
          "name": "stdout",
          "text": [
            "<class 'int'>\n"
          ]
        }
      ]
    },
    {
      "cell_type": "code",
      "source": [
        "#str to int\n",
        "a_str=\"123\"\n",
        "a_int=int(a_str)\n",
        "print(int(a_int))"
      ],
      "metadata": {
        "colab": {
          "base_uri": "https://localhost:8080/"
        },
        "id": "BGy4t4B-XRmd",
        "outputId": "9d0f0323-2da2-4140-991c-f45c55663e4e"
      },
      "execution_count": null,
      "outputs": [
        {
          "output_type": "stream",
          "name": "stdout",
          "text": [
            "123\n"
          ]
        }
      ]
    },
    {
      "cell_type": "code",
      "source": [
        "a_str=\"abc\"\n",
        "a_int=int(a_str)\n",
        "print(int(a_int))"
      ],
      "metadata": {
        "id": "uhjQIsVjXrtC",
        "colab": {
          "base_uri": "https://localhost:8080/",
          "height": 211
        },
        "outputId": "16190db7-07d1-4de2-a2d7-42f7338ddd00"
      },
      "execution_count": null,
      "outputs": [
        {
          "output_type": "error",
          "ename": "ValueError",
          "evalue": "ignored",
          "traceback": [
            "\u001b[0;31m---------------------------------------------------------------------------\u001b[0m",
            "\u001b[0;31mValueError\u001b[0m                                Traceback (most recent call last)",
            "\u001b[0;32m<ipython-input-12-e587daca8498>\u001b[0m in \u001b[0;36m<cell line: 2>\u001b[0;34m()\u001b[0m\n\u001b[1;32m      1\u001b[0m \u001b[0ma_str\u001b[0m\u001b[0;34m=\u001b[0m\u001b[0;34m\"abc\"\u001b[0m\u001b[0;34m\u001b[0m\u001b[0;34m\u001b[0m\u001b[0m\n\u001b[0;32m----> 2\u001b[0;31m \u001b[0ma_int\u001b[0m\u001b[0;34m=\u001b[0m\u001b[0mint\u001b[0m\u001b[0;34m(\u001b[0m\u001b[0ma_str\u001b[0m\u001b[0;34m)\u001b[0m\u001b[0;34m\u001b[0m\u001b[0;34m\u001b[0m\u001b[0m\n\u001b[0m\u001b[1;32m      3\u001b[0m \u001b[0mprint\u001b[0m\u001b[0;34m(\u001b[0m\u001b[0mint\u001b[0m\u001b[0;34m(\u001b[0m\u001b[0ma_int\u001b[0m\u001b[0;34m)\u001b[0m\u001b[0;34m)\u001b[0m\u001b[0;34m\u001b[0m\u001b[0;34m\u001b[0m\u001b[0m\n",
            "\u001b[0;31mValueError\u001b[0m: invalid literal for int() with base 10: 'abc'"
          ]
        }
      ]
    },
    {
      "cell_type": "markdown",
      "source": [
        "**Zaokrąglanie wartości i niedokładne wartości**\n",
        "\n",
        "Tutaj można poczytać więcej o liczbach zmiennoprzecinkowych\n",
        "https://docs.python.org/3/tutorial/floatingpoint.html"
      ],
      "metadata": {
        "id": "FbNcYS-tX8O0"
      }
    },
    {
      "cell_type": "code",
      "source": [
        "a=3.7654\n",
        "res=round(a)\n",
        "print(f\"liczba zaokrąglona do całości: {res}\")\n",
        "print(f\"liczba zaokrąglona do 1 miejsca po przecinku: {round(a,1)}\")\n",
        "print(f\"liczba zaokrąglona do 3 miejsc po przecinku: {round(a,3)}\")"
      ],
      "metadata": {
        "colab": {
          "base_uri": "https://localhost:8080/"
        },
        "id": "R_fG2UkSYCAx",
        "outputId": "ff087e2c-0cfe-49d9-d1e3-1cf0583532d3"
      },
      "execution_count": null,
      "outputs": [
        {
          "output_type": "stream",
          "name": "stdout",
          "text": [
            "liczba zaokrąglona do całości: 4\n",
            "liczba zaokrąglona do 1 miejsca po przecinku: 3.8\n",
            "liczba zaokrąglona do 3 miejsc po przecinku: 3.765\n"
          ]
        }
      ]
    },
    {
      "cell_type": "code",
      "source": [
        "a=2.0-1.1\n",
        "print(a)"
      ],
      "metadata": {
        "colab": {
          "base_uri": "https://localhost:8080/"
        },
        "id": "aGrd5i-kZng5",
        "outputId": "acbb41ad-0b13-4551-e7bc-2c2b63928831"
      },
      "execution_count": null,
      "outputs": [
        {
          "output_type": "stream",
          "name": "stdout",
          "text": [
            "0.8999999999999999\n"
          ]
        }
      ]
    },
    {
      "cell_type": "markdown",
      "source": [
        "**Wczytywanie danych**"
      ],
      "metadata": {
        "id": "yjbU0Y0jqW3i"
      }
    },
    {
      "cell_type": "code",
      "source": [
        "name=input(\"Podaj swoje imie: \")\n",
        "number=input(\"Podaj swoja szczesliwa liczbe: \")\n",
        "print(f\"Witaj {name}, Twoja szczesliwa liczba to {number}\")"
      ],
      "metadata": {
        "colab": {
          "base_uri": "https://localhost:8080/"
        },
        "id": "abH00G1-qms_",
        "outputId": "abdcca70-c0b8-4b40-bae9-4d649b6d2b82"
      },
      "execution_count": null,
      "outputs": [
        {
          "output_type": "stream",
          "name": "stdout",
          "text": [
            "Podaj swoje imie: Monika\n",
            "Podaj swoja szczesliwa liczbe: 7\n",
            "Witaj Monika, Twoja szczesliwa liczba to 7\n"
          ]
        }
      ]
    },
    {
      "cell_type": "code",
      "source": [
        "number=input(\"Podaj liczbe: \")\n",
        "print(f\"Twoja liczba zwieksozna o 2 jest rowna: {number+2}\")"
      ],
      "metadata": {
        "colab": {
          "base_uri": "https://localhost:8080/",
          "height": 211
        },
        "id": "bDHMDYRI508h",
        "outputId": "a5e7e930-878b-4581-a012-846202709440"
      },
      "execution_count": null,
      "outputs": [
        {
          "name": "stdout",
          "output_type": "stream",
          "text": [
            "Podaj liczbe: 7\n"
          ]
        },
        {
          "output_type": "error",
          "ename": "TypeError",
          "evalue": "ignored",
          "traceback": [
            "\u001b[0;31m---------------------------------------------------------------------------\u001b[0m",
            "\u001b[0;31mTypeError\u001b[0m                                 Traceback (most recent call last)",
            "\u001b[0;32m<ipython-input-16-90c11e741bfe>\u001b[0m in \u001b[0;36m<cell line: 2>\u001b[0;34m()\u001b[0m\n\u001b[1;32m      1\u001b[0m \u001b[0mnumber\u001b[0m\u001b[0;34m=\u001b[0m\u001b[0minput\u001b[0m\u001b[0;34m(\u001b[0m\u001b[0;34m\"Podaj liczbe: \"\u001b[0m\u001b[0;34m)\u001b[0m\u001b[0;34m\u001b[0m\u001b[0;34m\u001b[0m\u001b[0m\n\u001b[0;32m----> 2\u001b[0;31m \u001b[0mprint\u001b[0m\u001b[0;34m(\u001b[0m\u001b[0;34mf\"Twoja liczba zwieksozna o 2 jest rowna: {number+2}\"\u001b[0m\u001b[0;34m)\u001b[0m\u001b[0;34m\u001b[0m\u001b[0;34m\u001b[0m\u001b[0m\n\u001b[0m",
            "\u001b[0;31mTypeError\u001b[0m: can only concatenate str (not \"int\") to str"
          ]
        }
      ]
    },
    {
      "cell_type": "markdown",
      "source": [
        "**Zadania**\n",
        "\n",
        "1.   Wczytaj od użytkownika wymiary prostokąta i oblicz jego pole. Wynik wyświetl z dokładnością do 2 miejsc po przecinku.\n",
        "2.   Bank oferuje lokatę z oprocentowaniem 7% w skali roku. Wczytaj od użytkownika kwotę, którą chce położyć na lokatę i wyświetl ile pieniędzy będzie miał na koncie po roku.\n",
        "3.   Napisz program, który może obliczyć Ci cenę towaru po obniżce. Wczytaj od użytkownika cenę początkową oraz procent obniżki. Wyświetl nową cenę.\n",
        "\n"
      ],
      "metadata": {
        "id": "czJMtD_urLuh"
      }
    },
    {
      "cell_type": "markdown",
      "source": [
        "**Konstrukcje warunkowe**\n",
        "\n",
        "```\n",
        "if warunek_logiczny:\n",
        "  instrukcje do wykonania #jeśli warunek logiczny jest prawdziwy\n",
        "else:\n",
        "  instrukcje do wykonania #jeśli warunek logiczny jest fałszywy\n",
        "```\n",
        "Operatory porównania: ==, !=, <,>,<=,>=\n",
        "\n",
        "Operatory logiczne: or (lub), and (i)\n"
      ],
      "metadata": {
        "id": "NUfltmp5txOa"
      }
    },
    {
      "cell_type": "code",
      "source": [
        "a=6\n",
        "if a<10:\n",
        "  print(\"Cyfra\")\n",
        "else:\n",
        "  print(\"Liczba\")"
      ],
      "metadata": {
        "colab": {
          "base_uri": "https://localhost:8080/"
        },
        "id": "7owKpVcNt-wU",
        "outputId": "a2bc61bf-4843-4090-da9b-a380986e66af"
      },
      "execution_count": null,
      "outputs": [
        {
          "output_type": "stream",
          "name": "stdout",
          "text": [
            "Cyfra\n"
          ]
        }
      ]
    },
    {
      "cell_type": "code",
      "source": [
        "n1=10\n",
        "n2=40\n",
        "if(n1==n2):\n",
        "  print(\"Liczby są równe\")\n",
        "else:\n",
        "  print(\"Liczby są różne\")"
      ],
      "metadata": {
        "colab": {
          "base_uri": "https://localhost:8080/"
        },
        "id": "28KBAbA5udbL",
        "outputId": "6072291f-cd2a-4a9d-deba-1fc4e5e40f85"
      },
      "execution_count": null,
      "outputs": [
        {
          "output_type": "stream",
          "name": "stdout",
          "text": [
            "Liczby są różne\n"
          ]
        }
      ]
    },
    {
      "cell_type": "code",
      "source": [
        "flag=True\n",
        "if flag: #flag==True\n",
        "  print(\"Prawda\")\n",
        "else:\n",
        "  print(\"Fałsz\")"
      ],
      "metadata": {
        "colab": {
          "base_uri": "https://localhost:8080/"
        },
        "id": "JDAqmfyavL4p",
        "outputId": "720dd85c-9f52-40ed-c7be-b898ccf77b0e"
      },
      "execution_count": null,
      "outputs": [
        {
          "output_type": "stream",
          "name": "stdout",
          "text": [
            "Prawda\n"
          ]
        }
      ]
    },
    {
      "cell_type": "code",
      "source": [
        "a=8\n",
        "if a==0:\n",
        "  print(\"Liczba jest rowna 0\")\n",
        "else: #a!=0\n",
        "  if a>0:\n",
        "    print(\"Liczba jest wieksza od 0\")\n",
        "  else: #a<=0\n",
        "    print(\"Liczba jest mniejsza od 0\")"
      ],
      "metadata": {
        "colab": {
          "base_uri": "https://localhost:8080/"
        },
        "id": "e5RpcUr0wFGF",
        "outputId": "5199bd14-ad37-4c7b-f4a8-440e55d0509d"
      },
      "execution_count": null,
      "outputs": [
        {
          "output_type": "stream",
          "name": "stdout",
          "text": [
            "Liczba jest wieksza od 0\n"
          ]
        }
      ]
    },
    {
      "cell_type": "code",
      "source": [
        "a=7\n",
        "print(f\"Czy liczba {a} należy do przedziału <10,20> ?\", end=\" \")\n",
        "if a>=10 and a<=20:\n",
        "  print(\"Tak\")\n",
        "else:\n",
        "  print(\"Nie\")"
      ],
      "metadata": {
        "colab": {
          "base_uri": "https://localhost:8080/"
        },
        "id": "a_CEoDS_xj-s",
        "outputId": "465aaeb1-cbd4-4281-f64a-535a57396df1"
      },
      "execution_count": null,
      "outputs": [
        {
          "output_type": "stream",
          "name": "stdout",
          "text": [
            "Czy liczba 7 należy do przedziału <10,20> ? Nie\n"
          ]
        }
      ]
    },
    {
      "cell_type": "markdown",
      "source": [
        "**Zadania**\n",
        "\n",
        "1.   Sprawdź czy liczba jest parzysta.\n",
        "2.   Student przystępuje do testu. Maksymalnie do zdobycia jest 100 punktów. Aby uzyskać zaliczenie student musi zdobyć 60% punktów. Wczytaj od studenta liczbę punktów aby sprawdzić czy zdał.\n",
        "3.  Kantor wymienia euro na zł i zł na euro. Napisz program, który pozwoli na wymianę zarówno euro/zł i zł/euro. Użytkownik podaje, jakiego rodzaju wymiany chce dokonać, a następnie podaje kwotę, którą chce wymienić. Załóżmy następujące przeliczniki: 1 zł= 0.21 euro,  1 euro=4.74 zł\n",
        "\n"
      ],
      "metadata": {
        "id": "NnvQsKMzyxXH"
      }
    },
    {
      "cell_type": "markdown",
      "source": [
        "**Pętle**\n",
        "\n",
        "Umożliwiają powtórzenie fragmentów kodu, bez kilkukrotnego kopiowania ich.\n",
        "\n",
        "*   pętla while - wykonuje się do momentu kiedy warunek logiczny jest prawdziwy.\n",
        "\n",
        "```\n",
        "while *warunek_logiczny*:\n",
        "  instrukcje do wykonania\n",
        "```\n",
        "\n",
        "*   pętla for - wykonuje się tyle razy ile zostało zdefiniowane na początku\n",
        "\n",
        "\n",
        "```\n",
        "for *każdy_element* in *kontener*:\n",
        "  instrukcje do wykonania\n",
        "```\n",
        "\n",
        "\n",
        "\n"
      ],
      "metadata": {
        "id": "mSovnGlm1m09"
      }
    },
    {
      "cell_type": "code",
      "source": [
        "i=1\n",
        "while i<=10:\n",
        "  print(f\"Iteracja {i}\")\n",
        "  i=i+1 #i+=1"
      ],
      "metadata": {
        "id": "37S-939k2-wA"
      },
      "execution_count": null,
      "outputs": []
    },
    {
      "cell_type": "code",
      "source": [
        "sum=0\n",
        "while(sum<=20):\n",
        "  number=input(\"Podaj liczbe: \")\n",
        "  sum=sum+int(number)\n",
        "\n",
        "print(\"Program sie zakonczyl, suma Twoich liczba jest większa od 20\")\n",
        "\n"
      ],
      "metadata": {
        "colab": {
          "base_uri": "https://localhost:8080/"
        },
        "id": "7Sw57CmP4Chx",
        "outputId": "4dc49053-2a16-4312-cd7f-6a79f62f5c55"
      },
      "execution_count": null,
      "outputs": [
        {
          "output_type": "stream",
          "name": "stdout",
          "text": [
            "Podaj liczbe: 1\n",
            "Podaj liczbe: 2\n",
            "Podaj liczbe: 22\n",
            "Program sie zakonczyl, suma Twoich liczba jest większa od 20\n"
          ]
        }
      ]
    },
    {
      "cell_type": "code",
      "source": [
        "for i in range(1,11,2):\n",
        "    print(f\"Iteracja {i}\")"
      ],
      "metadata": {
        "colab": {
          "base_uri": "https://localhost:8080/"
        },
        "id": "JiIafznq6CRK",
        "outputId": "eb8dc8c4-449a-4a09-860d-eda036fca8cb"
      },
      "execution_count": null,
      "outputs": [
        {
          "output_type": "stream",
          "name": "stdout",
          "text": [
            "Iteracja 1\n",
            "Iteracja 3\n",
            "Iteracja 5\n",
            "Iteracja 7\n",
            "Iteracja 9\n"
          ]
        }
      ]
    },
    {
      "cell_type": "code",
      "source": [
        "for i in range(10):\n",
        "    res=i**2\n",
        "    print(f\"{i}^2: {res}\")"
      ],
      "metadata": {
        "colab": {
          "base_uri": "https://localhost:8080/"
        },
        "id": "N3gQ89zP6PPU",
        "outputId": "a0b653c6-3c9e-4b67-ba7e-060dab830690"
      },
      "execution_count": null,
      "outputs": [
        {
          "output_type": "stream",
          "name": "stdout",
          "text": [
            "0^2: 0\n",
            "1^2: 1\n",
            "2^2: 4\n",
            "3^2: 9\n",
            "4^2: 16\n",
            "5^2: 25\n",
            "6^2: 36\n",
            "7^2: 49\n",
            "8^2: 64\n",
            "9^2: 81\n"
          ]
        }
      ]
    },
    {
      "cell_type": "code",
      "source": [
        "flag=True\n",
        "sum=0\n",
        "while flag:\n",
        "  number=input(\"Podaj liczbe \")\n",
        "  sum=sum+int(number)\n",
        "  ans=input(\"Czy chcesz kontynuowac \")\n",
        "  if ans!=\"TAK\":\n",
        "    flag=False\n",
        "print(\"Suma Twoich liczb to: \", sum)\n"
      ],
      "metadata": {
        "colab": {
          "base_uri": "https://localhost:8080/"
        },
        "id": "bmdt2XJF6k2w",
        "outputId": "1f26a861-1bd8-4683-ff11-0267901c579a"
      },
      "execution_count": null,
      "outputs": [
        {
          "output_type": "stream",
          "name": "stdout",
          "text": [
            "Podaj liczbe 7\n",
            "Czy chcesz kontynuowac TAK\n",
            "Podaj liczbe 8\n",
            "Czy chcesz kontynuowac nie\n",
            "Suma Twoich liczb to:  15\n"
          ]
        }
      ]
    },
    {
      "cell_type": "code",
      "source": [
        "l=[5,9,4,74,3,88,6]\n",
        "sum1=0\n",
        "sum2=0\n",
        "for el in l:\n",
        "  if el%2==0:\n",
        "    sum1=sum1+el\n",
        "  else:\n",
        "    sum2=sum2+el\n",
        "print(\"Suma elementow parzystych jest rowna: \", sum1)\n",
        "print(\"Suma elementow nieparzystych jest rowna: \", sum2)"
      ],
      "metadata": {
        "colab": {
          "base_uri": "https://localhost:8080/"
        },
        "id": "ljsOumVL8Inx",
        "outputId": "22b4b4b8-b34d-42cf-feb8-32cab069189f"
      },
      "execution_count": null,
      "outputs": [
        {
          "output_type": "stream",
          "name": "stdout",
          "text": [
            "Suma elementow parzystych jest rowna:  172\n",
            "Suma elementow nieparzystych jest rowna:  17\n"
          ]
        }
      ]
    },
    {
      "cell_type": "markdown",
      "source": [
        "**Zadania**\n",
        "\n",
        "1.   Stwórz kalkulator, który będzie wykonywać jedną z następujących operacji: dodawanie, odejmowanie, mnożenie i dzielenie. Kalkulator ma działać do momentu, kiedy użytkownik nie wciśnie przycisku q, który będzie oznaczał wyjście z programu. Użytkownik podaje liczby i działanie, które ma być na nich wykonane. Pamiętaj, że nie można dzielić przez 0. Wynik ma zostać wyświetlony na konsoli.\n",
        "2.   Bank oferuje lokatę z oprocentowaniem 7% w skali trzech miesięcy. Wczytaj od użytkownika kwotę, którą chce położyć na lokatę na rok i wyświetl ile pieniędzy będzie miał na koncie po każdy okresie rozliczeniowym."
      ],
      "metadata": {
        "id": "Wtce4WC0Agqg"
      }
    },
    {
      "cell_type": "markdown",
      "source": [
        "**Kontenery**\n",
        "https://docs.python.org/3/tutorial/datastructures.html"
      ],
      "metadata": {
        "id": "PuuFjCiINJh_"
      }
    },
    {
      "cell_type": "markdown",
      "source": [
        "**Listy**\n",
        "\n",
        "*   elementem listy może być cokolwiek, np. liczba, łańcuch znaków, inna lista\n",
        "*   numerowanie w liście zaczyna się od 0\n",
        "*   jest to uporządkowana struktora, którą można modyfikować\n",
        "*   podstawowe operacje wykonywane na liście to: dodanie elementu, usunięcie elementu, sortowanie listy\n",
        "*   aby uzyskać dostęp do listy używamy [], tworzymy ją również za pomocą []\n",
        "\n",
        "\n",
        "https://www.w3schools.com/python/python_lists.asp\n"
      ],
      "metadata": {
        "id": "yJV2Enk59y9v"
      }
    },
    {
      "cell_type": "code",
      "source": [
        "l=[] #tworzenie pustej listy l=list()\n",
        "l=[1,5,72,3,90] #tworzenie listy z zawartością\n",
        "print(\"Lista \", l)\n",
        "l.append(10) #element dodawany jest na koniec\n",
        "print(\"Lista po dodaniu 10 \", l)\n",
        "l.insert(2,100) #dodaje na wskazaną pozycję\n",
        "print(\"Lista po dodaniu 100 na pozycję 2 \", l)\n",
        "l.pop() #usuwa ostatni element\n",
        "print(\"Lista po usunieciu ostatniego elementu \", l)\n",
        "l.pop(2) #usuwa element na wskazanej pozycji\n",
        "print(\"Lista po usunieciu elementu z pozycji 2 \", l)\n",
        "l.reverse()\n",
        "print(\"Lista po odwróceniu kolejności \",l)"
      ],
      "metadata": {
        "colab": {
          "base_uri": "https://localhost:8080/"
        },
        "id": "3hcmgPTS-X20",
        "outputId": "f2f5ec42-093b-4bc0-d8f3-cef6b656e757"
      },
      "execution_count": null,
      "outputs": [
        {
          "output_type": "stream",
          "name": "stdout",
          "text": [
            "Lista  [1, 5, 72, 3, 90]\n",
            "Lista po dodaniu 10  [1, 5, 72, 3, 90, 10]\n",
            "Lista po dodaniu 100 na pozycję 2  [1, 5, 100, 72, 3, 90, 10]\n",
            "Lista po usunieciu ostatniego elementu  [1, 5, 100, 72, 3, 90]\n",
            "Lista po usunieciu elementu z pozycji 2  [1, 5, 72, 3, 90]\n",
            "Lista po odwróceniu kolejności  [90, 3, 72, 5, 1]\n"
          ]
        }
      ]
    },
    {
      "cell_type": "code",
      "source": [
        "l2=[\"Monika\",20,True,5.0]\n",
        "print(\"Lista \",l2)\n",
        "\n",
        "print(\"Element pod indeksem 1: \", l2[1])\n",
        "print(\"Element pod indeksem ostatnim: \", l2[-1])\n",
        "print(\"Element pod indeksem przed ostatnim: \", l2[-2])\n",
        "print(\"Elementy pod indeksami 1 oraz 2: \", l2[1:3])\n",
        "print(\"Elementy pod indeksami 0,1 oraz 2: \", l2[:3])\n",
        "print(\"Elementy pod indeksami ostatnim i przed ostatnim \", l2[2:])\n",
        "print(\"Elementy pod indeksami parzystymi: \", l2[::2])"
      ],
      "metadata": {
        "colab": {
          "base_uri": "https://localhost:8080/"
        },
        "id": "kpfc_4q9EL-6",
        "outputId": "e41b9b64-2b1b-4f9b-ca89-9e2658382d7a"
      },
      "execution_count": null,
      "outputs": [
        {
          "output_type": "stream",
          "name": "stdout",
          "text": [
            "Lista  ['Monika', 20, True, 5.0]\n",
            "Element pod indeksem 1:  20\n",
            "Element pod indeksem ostatnim:  5.0\n",
            "Element pod indeksem przed ostatnim:  True\n",
            "Elementy pod indeksami 1 oraz 2:  [20, True]\n",
            "Elementy pod indeksami 0,1 oraz 2:  ['Monika', 20, True]\n",
            "Elementy pod indeksami ostatnim i przed ostatnim  [True, 5.0]\n",
            "Elementy pod indeksami parzystymi:  ['Monika', True]\n"
          ]
        }
      ]
    },
    {
      "cell_type": "code",
      "source": [
        "new_list=l2.copy()\n",
        "print(\"Lista new_list jest kopia listy l2 \", new_list)"
      ],
      "metadata": {
        "colab": {
          "base_uri": "https://localhost:8080/"
        },
        "id": "IRsGwjO2FaXV",
        "outputId": "5b9d852a-a911-4ab4-c328-a324bb0f6da9"
      },
      "execution_count": null,
      "outputs": [
        {
          "output_type": "stream",
          "name": "stdout",
          "text": [
            "Lista new_list jest kopia listy l2  ['Monika', 20, True, 5.0]\n"
          ]
        }
      ]
    },
    {
      "cell_type": "code",
      "source": [
        "l=[1,5,72,3,90]\n",
        "print(\"Nieparzyste elementy znajdujące się w liście\")\n",
        "for el in l:\n",
        "  if el%2!=0:\n",
        "    print(el, end=\" \")"
      ],
      "metadata": {
        "colab": {
          "base_uri": "https://localhost:8080/"
        },
        "id": "YIK_vOzA_pnP",
        "outputId": "358d5d0e-4918-4937-c7c9-3eb8c227cf07"
      },
      "execution_count": null,
      "outputs": [
        {
          "output_type": "stream",
          "name": "stdout",
          "text": [
            "Nieparzyste elementy znajdujące się w liście\n",
            "1 5 3 "
          ]
        }
      ]
    },
    {
      "cell_type": "code",
      "source": [
        "l=[1,5,72,3,90,3]\n",
        "print(\"Nieparzyste elementy znajdujące się w liście wraz z numerami indeksów pod którymi się znajdują\")\n",
        "for i, el in enumerate(l):\n",
        "  if el%2!=0:\n",
        "    print(f\"Element {el} znajduje się pod indexem {i}\")"
      ],
      "metadata": {
        "colab": {
          "base_uri": "https://localhost:8080/"
        },
        "id": "ISv7uRudABJQ",
        "outputId": "b35ed904-f86d-4704-ad03-de57ecf82acc"
      },
      "execution_count": null,
      "outputs": [
        {
          "output_type": "stream",
          "name": "stdout",
          "text": [
            "Nieparzyste elementy znajdujące się w liście wraz z numerami indeksów pod którymi się znajdują\n",
            "Element 1 znajduje się pod indexem 0\n",
            "Element 5 znajduje się pod indexem 1\n",
            "Element 3 znajduje się pod indexem 3\n",
            "Element 3 znajduje się pod indexem 5\n"
          ]
        }
      ]
    },
    {
      "cell_type": "code",
      "source": [
        "l=[1,5,72,3,90,3]\n",
        "num=3\n",
        "res=l.count(num)\n",
        "print(f\"Liczba {num} występuje {res} razy w liście {l} \")"
      ],
      "metadata": {
        "colab": {
          "base_uri": "https://localhost:8080/"
        },
        "id": "MBRJMngrF6_j",
        "outputId": "83a10971-620a-422f-b6c5-1482ef6db436"
      },
      "execution_count": null,
      "outputs": [
        {
          "output_type": "stream",
          "name": "stdout",
          "text": [
            "Liczba 3 występuje 2 razy w liście [1, 5, 72, 3, 90, 3] \n"
          ]
        }
      ]
    },
    {
      "cell_type": "code",
      "source": [
        "l1=[1,2,3]\n",
        "l2=[4,5,6]\n",
        "l1.extend(l2)\n",
        "print(f\"Lista l2 zostala dolaczona do listy l1 za pomoca extend, zawartosc listy l1, {l1}\")\n",
        "l1.append(l2)\n",
        "print(f\"Lista l2 zostala dolaczona do listy l1 za pomoca append, zawartosc listy l1, {l1}\")"
      ],
      "metadata": {
        "colab": {
          "base_uri": "https://localhost:8080/"
        },
        "id": "KaI2RKwaJBf7",
        "outputId": "9c4c2775-dfa6-416b-87a7-8c6dbeffc214"
      },
      "execution_count": null,
      "outputs": [
        {
          "output_type": "stream",
          "name": "stdout",
          "text": [
            "Lista l2 zostala dolaczona do listy l1 za pomoca extend, zawartosc listy l1, [1, 2, 3, 4, 5, 6]\n",
            "Lista l2 zostala dolaczona do listy l1 za pomoca append, zawartosc listy l1, [1, 2, 3, 4, 5, 6, [4, 5, 6]]\n"
          ]
        }
      ]
    },
    {
      "cell_type": "code",
      "source": [
        "l=[6,2,8,4,9,1]\n",
        "l.sort()\n",
        "print(l)\n",
        "l.sort(reverse=True)\n",
        "print(l)"
      ],
      "metadata": {
        "colab": {
          "base_uri": "https://localhost:8080/"
        },
        "id": "oUKrIbITJjhY",
        "outputId": "5423a979-fcfa-4775-d037-c2a9bfe342a8"
      },
      "execution_count": null,
      "outputs": [
        {
          "output_type": "stream",
          "name": "stdout",
          "text": [
            "[1, 2, 4, 6, 8, 9]\n",
            "[9, 8, 6, 4, 2, 1]\n"
          ]
        }
      ]
    },
    {
      "cell_type": "markdown",
      "source": [
        "**Zadania**\n",
        "\n",
        "1.   Wygeneruj listę zawierającą 10 liczb z przedziału <1,100>. Na podstawie stworzonej listy stwórz dwie kolejne listy, z których jedna będzie zawierać tylko liczby parzyste a druga tylko nieparzyste. Wykorzystaj import from random import randint, funkcję randint.\n",
        "2.   Lista przechowuje liczbę binarną zapisanę za pomocą 0/1. Wyświetl na konsoli liczbę w systemie dziesiętym.\n",
        "3.   Znajdź wszystkie indeksy pod którymi znajdują się elementy mniejsze niż średnia arytmetyczna elementów w liście. Wypisz indeksy na konsolę.\n"
      ],
      "metadata": {
        "id": "3xIBbgbUEAYr"
      }
    },
    {
      "cell_type": "markdown",
      "source": [
        "**Krotki**\n",
        "\n",
        "*   krotki nazywa są tuplami\n",
        "*   krotka jest podobna do listy ale nie jest modyfikowalna\n",
        "*   jeśli krotka została już stworzona to nie można modyfikować jej zawartości, czyli nie możemy dodawać, usuwać, aktualizować elementów\n",
        "*   po co używać krotki? np. aby próba zmiany zawartości kolekcji nie mogła się udać, zabezpieczenie przed przypadkowymi zmianami, optymalizacja - zajmują mniej miejsca\n",
        "*   aby uzyskać dostęp do krotki używamy [], a tworzymy ją za pomocą ()\n",
        "\n",
        "https://www.w3schools.com/python/python_tuples.asp"
      ],
      "metadata": {
        "id": "dlN5Mo1jMZzY"
      }
    },
    {
      "cell_type": "code",
      "source": [
        "seq=(1,5,7,3,8)\n",
        "print(\"Krotka: \",seq)"
      ],
      "metadata": {
        "colab": {
          "base_uri": "https://localhost:8080/"
        },
        "id": "JFV78FMDNWYw",
        "outputId": "11ef59cf-207a-4828-b82d-50c63e8e30da"
      },
      "execution_count": null,
      "outputs": [
        {
          "output_type": "stream",
          "name": "stdout",
          "text": [
            "Krotka:  (1, 5, 7, 3, 8)\n"
          ]
        }
      ]
    },
    {
      "cell_type": "code",
      "source": [
        "el=seq[2]\n",
        "print(\"Trzeci element w krotce: \", el)"
      ],
      "metadata": {
        "colab": {
          "base_uri": "https://localhost:8080/"
        },
        "id": "w5G-P2-IOOUB",
        "outputId": "a7a97a94-8e13-4100-fd0b-12236bf8077f"
      },
      "execution_count": null,
      "outputs": [
        {
          "output_type": "stream",
          "name": "stdout",
          "text": [
            "Trzeci element w krotce:  7\n"
          ]
        }
      ]
    },
    {
      "cell_type": "code",
      "source": [
        "seq[2]=70"
      ],
      "metadata": {
        "id": "E7x5K4rMOZZQ",
        "outputId": "76d353ef-39a4-47c1-8034-a8329800f84a",
        "colab": {
          "base_uri": "https://localhost:8080/",
          "height": 176
        }
      },
      "execution_count": null,
      "outputs": [
        {
          "output_type": "error",
          "ename": "TypeError",
          "evalue": "ignored",
          "traceback": [
            "\u001b[0;31m---------------------------------------------------------------------------\u001b[0m",
            "\u001b[0;31mTypeError\u001b[0m                                 Traceback (most recent call last)",
            "\u001b[0;32m<ipython-input-34-71868866cec0>\u001b[0m in \u001b[0;36m<cell line: 1>\u001b[0;34m()\u001b[0m\n\u001b[0;32m----> 1\u001b[0;31m \u001b[0mseq\u001b[0m\u001b[0;34m[\u001b[0m\u001b[0;36m2\u001b[0m\u001b[0;34m]\u001b[0m\u001b[0;34m=\u001b[0m\u001b[0;36m70\u001b[0m\u001b[0;34m\u001b[0m\u001b[0;34m\u001b[0m\u001b[0m\n\u001b[0m",
            "\u001b[0;31mTypeError\u001b[0m: 'tuple' object does not support item assignment"
          ]
        }
      ]
    },
    {
      "cell_type": "markdown",
      "source": [
        "**Słowniki**\n",
        "*   każdy element słownika zawiera parę: klucz i wartość\n",
        "*   klucz może być dowolnego typu\n",
        "*   dostęp do elementu odbywa się za pomocą klucza\n",
        "*   klucze muszą być unikatowe\n",
        "*   wartości mogą się powtarzać\n",
        "*   kolejność elementów w słowniakch nie jest uporządkowana\n",
        "*   odwoływać się do słownika można za pomocą [], a tworzy się go za pomocą {}\n",
        "\n",
        "https://www.w3schools.com/python/python_dictionaries.asp"
      ],
      "metadata": {
        "id": "Px9c4Sr6Oey9"
      }
    },
    {
      "cell_type": "code",
      "source": [
        "capitals={}\n",
        "capitals[\"Polska\"]=\"Warszawa\"\n",
        "capitals[\"Niemcy\"]=\"Berlin\"\n",
        "capitals[\"Francja\"]=\"Paryz\"\n",
        "print(\"Zawartosc slownika: \",capitals)\n",
        "print(\"Zawartosc slownika: \", capitals.items())"
      ],
      "metadata": {
        "colab": {
          "base_uri": "https://localhost:8080/"
        },
        "id": "d7PVjTSePLG8",
        "outputId": "244cd647-fca6-406d-bb6d-e739664a307e"
      },
      "execution_count": null,
      "outputs": [
        {
          "output_type": "stream",
          "name": "stdout",
          "text": [
            "Zawartosc slownika:  {'Polska': 'Warszawa', 'Niemcy': 'Berlin', 'Francja': 'Paryz'}\n",
            "Zawartosc slownika:  dict_items([('Polska', 'Warszawa'), ('Niemcy', 'Berlin'), ('Francja', 'Paryz')])\n"
          ]
        }
      ]
    },
    {
      "cell_type": "code",
      "source": [
        "print(\"Klucze-panstwa: \", capitals.keys())\n",
        "print(\"Wartosci-stolice: \", capitals.values())\n",
        "\n",
        "print(\"Klucze-panstwa: \", list(capitals.keys()))\n",
        "print(\"Wartosci-stolice: \", list(capitals.values()))"
      ],
      "metadata": {
        "colab": {
          "base_uri": "https://localhost:8080/"
        },
        "id": "5p4JGVRGQUlR",
        "outputId": "c900dfc4-d261-4a3f-a00a-ecc8992a42e1"
      },
      "execution_count": null,
      "outputs": [
        {
          "output_type": "stream",
          "name": "stdout",
          "text": [
            "Klucze-panstwa:  dict_keys(['Polska', 'Niemcy', 'Francja'])\n",
            "Wartosci-stolice:  dict_values(['Warszawa', 'Berlin', 'Paryz'])\n",
            "Klucze-panstwa:  ['Polska', 'Niemcy', 'Francja']\n",
            "Wartosci-stolice:  ['Warszawa', 'Berlin', 'Paryz']\n"
          ]
        }
      ]
    },
    {
      "cell_type": "code",
      "source": [
        "print(\"Stolica Polski: \",capitals[\"Polska\"])\n",
        "#print(\"Stolica Hiszpani: \",capitals[\"Hiszpania\"])\n",
        "if \"Hiszpania\" in capitals:\n",
        "  print(\"Stolica Hiszpani: \",capitals[\"Hiszpania\"])\n",
        "\n",
        "print(\"Stolica Niemiec: \",capitals.get(\"Niemcy\"))\n",
        "print(\"Stolica Hiszpani: \",capitals.get(\"Hiszpania\"))"
      ],
      "metadata": {
        "colab": {
          "base_uri": "https://localhost:8080/"
        },
        "id": "gI1YJHq3Qr34",
        "outputId": "e03bc704-1e85-464d-f37e-09ec9a3148b4"
      },
      "execution_count": null,
      "outputs": [
        {
          "output_type": "stream",
          "name": "stdout",
          "text": [
            "Stolica Polski:  Warszawa\n",
            "Stolica Niemiec:  Berlin\n",
            "Stolica Hiszpani:  None\n"
          ]
        }
      ]
    },
    {
      "cell_type": "code",
      "source": [
        "del capitals[\"Polska\"] #capitals.pop(\"Polska\")\n",
        "print(\"Stolica Polski: \",capitals.get(\"Polska\"))"
      ],
      "metadata": {
        "colab": {
          "base_uri": "https://localhost:8080/"
        },
        "id": "xzOuet0KR-xU",
        "outputId": "d98c73ed-5e73-4d36-b016-44aedb449b27"
      },
      "execution_count": null,
      "outputs": [
        {
          "output_type": "stream",
          "name": "stdout",
          "text": [
            "Stolica Polski:  None\n"
          ]
        }
      ]
    },
    {
      "cell_type": "code",
      "source": [
        "for key in capitals.keys():\n",
        "  print(f\"Panstwo {key}, stolica {capitals[key]}\")"
      ],
      "metadata": {
        "colab": {
          "base_uri": "https://localhost:8080/"
        },
        "id": "PFdgCjKpSRr9",
        "outputId": "c0b673bc-eceb-4a9f-8328-a68dae8e3fe2"
      },
      "execution_count": null,
      "outputs": [
        {
          "output_type": "stream",
          "name": "stdout",
          "text": [
            "Panstwo Niemcy, stolica Berlin\n",
            "Panstwo Francja, stolica Paryz\n"
          ]
        }
      ]
    },
    {
      "cell_type": "code",
      "source": [
        "for key,value in capitals.items():\n",
        "  print(f\"Panstwo {key}, stolica {value}\")"
      ],
      "metadata": {
        "colab": {
          "base_uri": "https://localhost:8080/"
        },
        "id": "sZAmea2PSZpO",
        "outputId": "98a2ae08-1f2a-45f7-e152-5b134ace100a"
      },
      "execution_count": null,
      "outputs": [
        {
          "output_type": "stream",
          "name": "stdout",
          "text": [
            "Panstwo Niemcy, stolica Berlin\n",
            "Panstwo Francja, stolica Paryz\n"
          ]
        }
      ]
    },
    {
      "cell_type": "code",
      "source": [
        "capitals2={\"Hiszpania\":\"Madryt\",\"Portugalia\":\"Lizbona\"}\n",
        "capitals.update(capitals2)\n",
        "print(capitals)"
      ],
      "metadata": {
        "colab": {
          "base_uri": "https://localhost:8080/"
        },
        "id": "MMoiMpmgS1UQ",
        "outputId": "2faddab2-6f64-4f8b-dfc9-352300f23082"
      },
      "execution_count": null,
      "outputs": [
        {
          "output_type": "stream",
          "name": "stdout",
          "text": [
            "{'Niemcy': 'Berlin', 'Francja': 'Paryz', 'Hiszpania': 'Madryt', 'Portugalia': 'Lizbona'}\n"
          ]
        }
      ]
    },
    {
      "cell_type": "markdown",
      "source": [
        "**Zadania**\n",
        "\n",
        "1.   Stwórz słownik przechowujący oceny z informatyki dla każdego studenta. Kluczem jest numer indeksu studenta. Na podstawie stworzonego słownika,dla każdego studenta policz średnią arytmetyczną jego ocen.\n",
        "2.   Wykorzystując słownik policz częstość występowania liczb w liście. Na konsoli powinna być wyświetlona informacja ile razy dana liczba pojawiła się w liście.\n",
        "4.   Na podstawie zadania 2, znajdź które elementy zostały zduplikowane.\n",
        "3.   Stwórz słownik polsko-angielski. Zakładamy, że jedno słowo ma dokładnie jedno tłumaczenie. Słownik powinien mieć następujące funkcjonalności:\n",
        "     - dodać słowo wraz z tłumaczeniem do słownika, jeśli jeszcze go nie ma\n",
        "     - usunąć ze słownika podane słowo wraz z jego tłumaczeniem\n",
        "     - wyświetlić cały słownik\n",
        "     - zwrócić tłumaczenie dla danego słowa"
      ],
      "metadata": {
        "id": "qj-jeNlKTG2Y"
      }
    },
    {
      "cell_type": "markdown",
      "source": [
        "**Zbiory**\n",
        "\n",
        "*   zbiór w sensie matematycznym\n",
        "*   przechowuje elementy unikatowe, brak powtórzeń\n",
        "*   są podobne do słowników, ale zawierają same klucze\n",
        "*   elementy zbioru nie są modyfikowalne\n",
        "*   zbiór tworzymy za pomocą {}, a jeśli chcemy stworzyć pusty zbiór to używamy funkcji set()\n",
        "*   na zbiorach wykonywane są operacje takie jak: suma zbiorów, iloczyn zbiorów czy różnica zbiorów.\n",
        "\n",
        "https://www.w3schools.com/python/python_sets.asp"
      ],
      "metadata": {
        "id": "e43l0-GrZhYD"
      }
    },
    {
      "cell_type": "code",
      "source": [
        "number_set={3,5,7,2,9}\n",
        "empty_set=set()\n",
        "print(\"Set: \",number_set)\n",
        "number_set.add(10)\n",
        "print(\"Set po dodaniu 10: \", number_set)\n",
        "number_set.remove(10)\n",
        "print(\"Set po usunieciu 10: \", number_set)\n",
        "print(\"Liczba elementów w set: \",len(number_set))\n",
        "\n",
        "print(\"Czy 5 jest w zbiorze? \", 5 in number_set)"
      ],
      "metadata": {
        "colab": {
          "base_uri": "https://localhost:8080/"
        },
        "id": "MCtFej4fZ3ol",
        "outputId": "65701fa2-9dbb-45de-fe35-ec5f80251a75"
      },
      "execution_count": null,
      "outputs": [
        {
          "output_type": "stream",
          "name": "stdout",
          "text": [
            "Set:  {2, 3, 5, 7, 9}\n",
            "Set po dodaniu 10:  {2, 3, 5, 7, 9, 10}\n",
            "Set po usunieciu 10:  {2, 3, 5, 7, 9}\n",
            "Liczba elementów w set:  5\n",
            "Czy 5 jest w zbiorze?  True\n"
          ]
        }
      ]
    },
    {
      "cell_type": "code",
      "source": [
        "for el in number_set:\n",
        "  print(el)"
      ],
      "metadata": {
        "colab": {
          "base_uri": "https://localhost:8080/"
        },
        "id": "FiLKwDdrbDy7",
        "outputId": "45d2888a-fe90-4240-f30b-c73eba4a4c43"
      },
      "execution_count": null,
      "outputs": [
        {
          "output_type": "stream",
          "name": "stdout",
          "text": [
            "2\n",
            "3\n",
            "5\n",
            "7\n",
            "9\n"
          ]
        }
      ]
    },
    {
      "cell_type": "code",
      "source": [
        "s1={1,5,7,8}\n",
        "s2={1,4,7}\n",
        "print(\"Suma zbiorow: \", s1|s2)\n",
        "print(\"Iloczyn zbiorow: \", s1&s2)\n",
        "print(\"Roznica zbiorow: \", s1-s2)"
      ],
      "metadata": {
        "colab": {
          "base_uri": "https://localhost:8080/"
        },
        "id": "NzWKiZCObIIB",
        "outputId": "46082964-57e4-45d3-cdf7-f02111d39f61"
      },
      "execution_count": null,
      "outputs": [
        {
          "output_type": "stream",
          "name": "stdout",
          "text": [
            "Suma zbiorow:  {1, 4, 5, 7, 8}\n",
            "Iloczyn zbiorow:  {1, 7}\n",
            "Roznica zbiorow:  {8, 5}\n"
          ]
        }
      ]
    },
    {
      "cell_type": "markdown",
      "source": [
        "**Zadania**\n",
        "\n",
        "1.   Znajdź elementy unikatowe w liście\n",
        "2.   Znajdź elementy, które się powtarzają w liście\n",
        "\n"
      ],
      "metadata": {
        "id": "NBChy38Bbxdc"
      }
    }
  ]
}